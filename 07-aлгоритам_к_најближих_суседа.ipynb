{
  "nbformat": 4,
  "nbformat_minor": 0,
  "metadata": {
    "colab": {
      "provenance": []
    },
    "kernelspec": {
      "name": "python3",
      "display_name": "Python 3"
    },
    "language_info": {
      "name": "python"
    }
  },
  "cells": [
    {
      "cell_type": "markdown",
      "source": [
        "# Алгоритам к-најближих суседа"
      ],
      "metadata": {
        "id": "zLrPIA8VzeS4"
      }
    },
    {
      "cell_type": "markdown",
      "source": [
        "[![Open In Colab](https://colab.research.google.com/assets/colab-badge.svg)](https://colab.research.google.com/github/Petlja/specit4_ai_radni/blob/main/07-aлгоритам_к_најближих_суседа.ipynb)"
      ],
      "metadata": {
        "id": "eCYz43qVPHRI"
      }
    },
    {
      "cell_type": "markdown",
      "source": [
        "Ова свеска прати лекцију о алгоритму к-најближих суседа."
      ],
      "metadata": {
        "id": "D0k21hmZzjpD"
      }
    },
    {
      "cell_type": "markdown",
      "source": [
        "Изврши доњу ћелију и учитај библиотеке које ће нам бити потребне у даљем раду."
      ],
      "metadata": {
        "id": "qUtbdxoZ3oR5"
      }
    },
    {
      "cell_type": "code",
      "execution_count": null,
      "metadata": {
        "id": "-IXAieAI3f7R"
      },
      "outputs": [],
      "source": [
        "import numpy as np\n",
        "from matplotlib import pyplot as plt"
      ]
    },
    {
      "cell_type": "markdown",
      "source": [
        "Прво ћемо обрадити податке. Променљива `instance` прдставља све инстанце у скупу података. У првом реду су наведене плаве инстанце, а у другим црвене.  Наведена је посебно и зелена инстанца коју треба класификовати."
      ],
      "metadata": {
        "id": "SNIJoJ4ZDrIE"
      }
    },
    {
      "cell_type": "code",
      "source": [
        "instance = [\n",
        "        (-0.25, 0, 1), (-2.5, 2, 1), (-1.5, 1.5, 1), (-2.5, 0.5, 1), (-2.5, 2, 1), (-2.5, 4, 1), (0.5, 3, 1), # plave\n",
        "        (-1.5, 3.5, 0), (1, 3.5, 0), (3, 3, 0), (0.5, 0.25, 0), (0.75, -0.5, 0) #crvene\n",
        "  ]\n",
        "\n",
        "zelena_instanca = (0, 0)"
      ],
      "metadata": {
        "id": "fkraZvCAEYQm"
      },
      "execution_count": null,
      "outputs": []
    },
    {
      "cell_type": "code",
      "source": [],
      "metadata": {
        "id": "g-KrP6QFE8Ch"
      },
      "execution_count": null,
      "outputs": []
    },
    {
      "cell_type": "markdown",
      "source": [
        "Следећа функција ће нам помоћи да прикажемо суседство зелене инстанце одређено избором броја `k`."
      ],
      "metadata": {
        "id": "1x3v29jnFEUi"
      }
    },
    {
      "cell_type": "code",
      "source": [
        "def prikazi_susedstvo(k, instance=instance, zelena_instanca=zelena_instanca):\n",
        "\n",
        "  # podesavamo panel za iscrtavanje\n",
        "  fig, ax = plt.subplots()\n",
        "  ax.set_aspect(1)\n",
        "  ax.set_axis_off()\n",
        "  fig.set_size_inches(5, 5)\n",
        "\n",
        "  # prikazujemo instance\n",
        "  for instanca in instance:\n",
        "    # za svaku instancu odredjujemo boju i oblik\n",
        "    boja = 'red' if instanca[2] == 0 else 'blue'\n",
        "    oblik = '^' if instanca[2] == 0 else 's'\n",
        "    ax.scatter(instanca[0], instanca[1], color=boja, marker=oblik)\n",
        "\n",
        "  # prikazujemo i zelenu instancu\n",
        "  ax.scatter(zelena_instanca[0], zelena_instanca[1], color='green')\n",
        "\n",
        "  # izracunavamo rastojanje od zelene instance do svih instanci u skupu\n",
        "  rastojanja = np.array([np.sqrt(instanca[0]**2 + instanca[1]**2) for instanca in instance])\n",
        "\n",
        "  # zatim odredjujemo koje je to rastojanje k-to po redu\n",
        "  k_rastojanje = np.sort(rastojanja)[k-1]\n",
        "\n",
        "  # i iscrtavamo krug oko zelene instance koji ima poluprecnik koji odgovara uocenom rastojanju\n",
        "  r = k_rastojanje + 0.05\n",
        "  circle = plt.Circle((zelena_instanca[0], zelena_instanca[1]), r, color='gray', linestyle='--', fill=False)\n",
        "  ax.add_patch(circle)\n",
        "\n",
        "  # konacno prikazujemo susedstvo\n",
        "  plt.show()"
      ],
      "metadata": {
        "id": "9L8c8Zsb0D0L"
      },
      "execution_count": null,
      "outputs": []
    },
    {
      "cell_type": "markdown",
      "source": [
        "Сада можеш да одабереш вредност броја к померањем слајдера, а потом и исцрташ суседство и одлучиш о томе којој класи припада зелена инстанца. Да би исцртао суседство мораш да извршиш ћелију."
      ],
      "metadata": {
        "id": "Z3_3_Dk6FjZO"
      }
    },
    {
      "cell_type": "code",
      "source": [
        "k = 3 # @param {type:\"slider\", min:1, max:12, step:1}\n",
        "prikazi_susedstvo(k)"
      ],
      "metadata": {
        "colab": {
          "base_uri": "https://localhost:8080/",
          "height": 385
        },
        "id": "rqsZwV7CFxd5",
        "outputId": "afb3add6-b467-4e4e-d323-f087002bacd1"
      },
      "execution_count": null,
      "outputs": [
        {
          "output_type": "display_data",
          "data": {
            "text/plain": [
              "<Figure size 500x500 with 1 Axes>"
            ],
            "image/png": "[encoded data removed]"
          },
          "metadata": {}
        }
      ]
    },
    {
      "cell_type": "markdown",
      "source": [
        "Следећа ћелија садржи функцију која класификује нову инстанцу на основу задатих инстанци користећи алгоритма к-најближих суседа. Након што размисилиш којој класи припада инстанца, можеш да провериш свој закључак извршавањем ове фунцкије."
      ],
      "metadata": {
        "id": "0eE45L3zIdlb"
      }
    },
    {
      "cell_type": "code",
      "source": [
        "def euklidsko_rastojanje(instanca1, instanca2):\n",
        "  return np.sqrt((instanca1[0]-instanca2[0])**2 + (instanca1[1]-instanca2[1])**2)"
      ],
      "metadata": {
        "id": "OkKBe-SAI2tM"
      },
      "execution_count": null,
      "outputs": []
    },
    {
      "cell_type": "code",
      "source": [
        "def kNN(k, instance, nova_instanca, klase={0:'crvena', 1: 'plava'}):\n",
        "\n",
        "  # prvo izracunavamo rastojanja izmedju nove instance i svih instanci u skupu podataka\n",
        "  rastojanja = [euklidsko_rastojanje(instanca, nova_instanca) for instanca in instance]\n",
        "\n",
        "  # potom sortiramo rastojanja, izdvajamo k najmanjih i instance kojima odgovaraju\n",
        "  # proglasavamo susedima\n",
        "  susedi = np.argsort(rastojanja)[0:k]\n",
        "\n",
        "  # zatim ocitavamo obelezja suseda i prebrojavamo ih\n",
        "  obelezja_suseda = [instance[sused][2] for sused in susedi]\n",
        "  prebrojavanja_obelezja = np.bincount(obelezja_suseda)\n",
        "\n",
        "  # obelezje nove instance ce biti obelezje najbrojnijeg suseda\n",
        "  klasa = np.argmax(prebrojavanja_obelezja)\n",
        "\n",
        "  return klase[klasa]"
      ],
      "metadata": {
        "id": "6qdERfgoIWB1"
      },
      "execution_count": null,
      "outputs": []
    },
    {
      "cell_type": "code",
      "source": [
        "kNN(3, instance, zelena_instanca)"
      ],
      "metadata": {
        "colab": {
          "base_uri": "https://localhost:8080/",
          "height": 35
        },
        "id": "NTyfdogxJVPJ",
        "outputId": "635dfd71-0fbe-4b2c-c486-8108d974cecb"
      },
      "execution_count": null,
      "outputs": [
        {
          "output_type": "execute_result",
          "data": {
            "text/plain": [
              "'crvena'"
            ],
            "application/vnd.google.colaboratory.intrinsic+json": {
              "type": "string"
            }
          },
          "metadata": {},
          "execution_count": 63
        }
      ]
    },
    {
      "cell_type": "code",
      "source": [],
      "metadata": {
        "id": "9x3hC876OXfY"
      },
      "execution_count": null,
      "outputs": []
    }
  ]
}
