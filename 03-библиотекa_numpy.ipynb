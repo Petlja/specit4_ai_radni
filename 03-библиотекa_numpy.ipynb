{
  "cells": [
    {
      "cell_type": "markdown",
      "metadata": {
        "id": "89FPz0iTnAln"
      },
      "source": [
        "# Библиотекa NumPy"
      ]
    },
    {
      "cell_type": "markdown",
      "source": [
        "[![Open In Colab](https://colab.research.google.com/assets/colab-badge.svg)](https://colab.research.google.com/github.com/Petlja/specit4_ai_radni/blob/main/библиотека_numpy.ipynb)"
      ],
      "metadata": {
        "id": "Ncl1pobVOvoQ"
      }
    },
    {
      "cell_type": "markdown",
      "source": [
        "Ова свеска прати лекцију о библиотеци NumPy. У њој можеш да испробаш све функције које су поменуте и изведеш експерименте који су ти занимљиви."
      ],
      "metadata": {
        "id": "7J-i6LpHnadB"
      }
    },
    {
      "cell_type": "markdown",
      "source": [
        "Да би могли да користимо библиотеку NumPy, прво морамо да је учитамо."
      ],
      "metadata": {
        "id": "Dm9jIdlWoHVt"
      }
    },
    {
      "cell_type": "code",
      "execution_count": null,
      "metadata": {
        "id": "BACZL0VqnAlq"
      },
      "outputs": [],
      "source": [
        "import numpy as np"
      ]
    },
    {
      "cell_type": "markdown",
      "source": [
        "## Вишедимензиони низови"
      ],
      "metadata": {
        "id": "6SWwCYSI5jNl"
      }
    },
    {
      "cell_type": "markdown",
      "metadata": {
        "id": "iLqNxqDFnAls"
      },
      "source": [
        "Основна структура библиотеке NumPy је вишедимензиони низ (енгл. multidimensional array, ndarray). Њу карактеришу облик који указује на димензијe вишедимензионог низа и елементи које садржи. Вишедимензиони низови се креирају позивом функције `array`."
      ]
    },
    {
      "cell_type": "markdown",
      "metadata": {
        "id": "XXfVJkeSnAls"
      },
      "source": [
        "Следећим блоком кода креира се вишедимензиони низ `M` димензија 3x2 тј. која има три врсте и две колоне. Као што смо видели, такве блокове сусрећемо приликом представљања слика али и табеларних података - појединачне колоне означавају атрибуте а врсте инстанце. Вишедимензионе низове који имају две димензије називамо и матрице."
      ]
    },
    {
      "cell_type": "code",
      "source": [
        "M = np.array([\n",
        "  [1, 2],\n",
        "  [3, 4],\n",
        "  [5, 6]\n",
        "])\n"
      ],
      "metadata": {
        "id": "wwcAJ8SwqleA"
      },
      "execution_count": null,
      "outputs": []
    },
    {
      "cell_type": "code",
      "source": [
        "M"
      ],
      "metadata": {
        "colab": {
          "base_uri": "https://localhost:8080/"
        },
        "id": "fkIyybDbqvWP",
        "outputId": "2c7716cb-1ec2-4205-a1f1-f6711fd82dcc"
      },
      "execution_count": null,
      "outputs": [
        {
          "output_type": "execute_result",
          "data": {
            "text/plain": [
              "array([[1, 2],\n",
              "       [3, 4],\n",
              "       [5, 6]])"
            ]
          },
          "metadata": {},
          "execution_count": 4
        }
      ]
    },
    {
      "cell_type": "markdown",
      "metadata": {
        "id": "EyZjps08nAls"
      },
      "source": [
        "Информацију о димензијама вишедимензионог низа добијамо помоћу својства `shape`."
      ]
    },
    {
      "cell_type": "code",
      "source": [
        "M.shape"
      ],
      "metadata": {
        "colab": {
          "base_uri": "https://localhost:8080/"
        },
        "id": "bOFGiRpErPyf",
        "outputId": "a0699599-3fa8-4aa9-e698-e31730e6a3b8"
      },
      "execution_count": null,
      "outputs": [
        {
          "output_type": "execute_result",
          "data": {
            "text/plain": [
              "(3, 2)"
            ]
          },
          "metadata": {},
          "execution_count": 5
        }
      ]
    },
    {
      "cell_type": "markdown",
      "source": [
        "Информацију о типу елемената вишедимензионог низа добијамо помоћу својства `dtype`. Сви елементи вишедимензионог низа морају да буду истог типа."
      ],
      "metadata": {
        "id": "LEp4IDgArSbZ"
      }
    },
    {
      "cell_type": "code",
      "source": [
        "M.dtype"
      ],
      "metadata": {
        "colab": {
          "base_uri": "https://localhost:8080/"
        },
        "id": "ju3VUUdSrfOw",
        "outputId": "bb0905e0-d7b4-4db6-dced-6999262809de"
      },
      "execution_count": null,
      "outputs": [
        {
          "output_type": "execute_result",
          "data": {
            "text/plain": [
              "dtype('int64')"
            ]
          },
          "metadata": {},
          "execution_count": 6
        }
      ]
    },
    {
      "cell_type": "markdown",
      "metadata": {
        "id": "kzTnFu4tnAlv"
      },
      "source": [
        "Библиотека NumPy подржава подразумеване типове као што су `int_`, `float_`, `bool_` i `complex_`, али нуди и могућност рада са типовима другачијих опсега и прецизности попут `int8`, `int16`, `uint8`, `float32`, `float64`, `complex128`."
      ]
    },
    {
      "cell_type": "markdown",
      "source": [
        "Уколико треба да задамо тип елемената приликом креирања вишедимензионог низа можемо да искористимо додатни аргумент `dtype` функције `array`."
      ],
      "metadata": {
        "id": "l5r_SMAbsdA4"
      }
    },
    {
      "cell_type": "code",
      "execution_count": null,
      "metadata": {
        "id": "2TBvxUGFnAlv"
      },
      "outputs": [],
      "source": [
        "M = np.array([\n",
        "  [1, 2],\n",
        "  [3, 4],\n",
        "  [5, 6]\n",
        "], dtype='int64')\n"
      ]
    },
    {
      "cell_type": "code",
      "execution_count": null,
      "metadata": {
        "colab": {
          "base_uri": "https://localhost:8080/"
        },
        "id": "PzXEsD2QnAlv",
        "outputId": "826c4a12-5915-48f0-a1d0-796f1133973a"
      },
      "outputs": [
        {
          "output_type": "execute_result",
          "data": {
            "text/plain": [
              "array([[1, 2],\n",
              "       [3, 4],\n",
              "       [5, 6]])"
            ]
          },
          "metadata": {},
          "execution_count": 8
        }
      ],
      "source": [
        "M"
      ]
    },
    {
      "cell_type": "code",
      "execution_count": null,
      "metadata": {
        "id": "FoHZzeXxnAlw"
      },
      "outputs": [],
      "source": []
    },
    {
      "cell_type": "markdown",
      "source": [
        "Ево још неких примера креирања вишедимензионих низова:"
      ],
      "metadata": {
        "id": "mG1B1YrztJuM"
      }
    },
    {
      "cell_type": "markdown",
      "source": [
        "- низ једноцифрених бројева"
      ],
      "metadata": {
        "id": "Ti8lJ2aAtNAI"
      }
    },
    {
      "cell_type": "code",
      "source": [
        "np.array([0, 1, 2, 3, 4, 5, 6, 7, 8, 9])"
      ],
      "metadata": {
        "colab": {
          "base_uri": "https://localhost:8080/"
        },
        "id": "vMLf9_G8tSMK",
        "outputId": "522be317-df05-4c5a-cc74-64bb612b6e63"
      },
      "execution_count": null,
      "outputs": [
        {
          "output_type": "execute_result",
          "data": {
            "text/plain": [
              "array([0, 1, 2, 3, 4, 5, 6, 7, 8, 9])"
            ]
          },
          "metadata": {},
          "execution_count": 9
        }
      ]
    },
    {
      "cell_type": "markdown",
      "metadata": {
        "id": "dOwCfYL3nAlw"
      },
      "source": [
        "- матрица димензија 1x3 која садржи бројеве 10, 11 и 12"
      ]
    },
    {
      "cell_type": "code",
      "source": [
        "np.array([\n",
        "    [10, 11, 12]\n",
        "])"
      ],
      "metadata": {
        "colab": {
          "base_uri": "https://localhost:8080/"
        },
        "id": "W2N3gTgFtZnQ",
        "outputId": "ab364fab-81f5-4730-e173-caa4dd2e9206"
      },
      "execution_count": null,
      "outputs": [
        {
          "output_type": "execute_result",
          "data": {
            "text/plain": [
              "array([[10, 11, 12]])"
            ]
          },
          "metadata": {},
          "execution_count": 10
        }
      ]
    },
    {
      "cell_type": "markdown",
      "metadata": {
        "id": "njKaM_2nnAlw"
      },
      "source": [
        "- матрица димензија 3x1 која садржи бројеве 10, 11 и 12"
      ]
    },
    {
      "cell_type": "code",
      "source": [
        "np.array([\n",
        "    [10],\n",
        "    [11],\n",
        "    [12]\n",
        "])"
      ],
      "metadata": {
        "colab": {
          "base_uri": "https://localhost:8080/"
        },
        "id": "tIad_i7Ith55",
        "outputId": "70fdd7e5-4be8-4250-b23a-011049089e24"
      },
      "execution_count": null,
      "outputs": [
        {
          "output_type": "execute_result",
          "data": {
            "text/plain": [
              "array([[10],\n",
              "       [11],\n",
              "       [12]])"
            ]
          },
          "metadata": {},
          "execution_count": 11
        }
      ]
    },
    {
      "cell_type": "markdown",
      "source": [
        "## Приступ елементима вишедимензионих низова"
      ],
      "metadata": {
        "id": "CTwWR81M51Qj"
      }
    },
    {
      "cell_type": "markdown",
      "source": [
        "Појединачним елементима низова приступа се коришћењем одговарајућих индекса."
      ],
      "metadata": {
        "id": "dkSACuwFujnO"
      }
    },
    {
      "cell_type": "markdown",
      "source": [
        "Са `M[0,0]` очитавамо вредност у нултој врсти и нултој колони матрице `M`."
      ],
      "metadata": {
        "id": "jdSkNLiiurWq"
      }
    },
    {
      "cell_type": "code",
      "execution_count": null,
      "metadata": {
        "colab": {
          "base_uri": "https://localhost:8080/"
        },
        "id": "XHh0pqLbnAnA",
        "outputId": "4d290812-43d3-4b28-8306-2f39c9baf70a"
      },
      "outputs": [
        {
          "output_type": "execute_result",
          "data": {
            "text/plain": [
              "1"
            ]
          },
          "metadata": {},
          "execution_count": 12
        }
      ],
      "source": [
        "M[0,0]"
      ]
    },
    {
      "cell_type": "markdown",
      "source": [
        "Са `M[2,1]` очитавамо вредност у другој врсти и првој колони матрице `M`."
      ],
      "metadata": {
        "id": "3DZRxrIPu4MO"
      }
    },
    {
      "cell_type": "code",
      "source": [
        "M[2,1]"
      ],
      "metadata": {
        "colab": {
          "base_uri": "https://localhost:8080/"
        },
        "id": "EapIG-DXu_nS",
        "outputId": "ea0bba89-84d3-457b-a6f2-050c0207ac34"
      },
      "execution_count": null,
      "outputs": [
        {
          "output_type": "execute_result",
          "data": {
            "text/plain": [
              "6"
            ]
          },
          "metadata": {},
          "execution_count": 13
        }
      ]
    },
    {
      "cell_type": "markdown",
      "source": [
        "Уколико приступимо елементу који не постоји, добићемо грешку!"
      ],
      "metadata": {
        "id": "iDjg-aRY57Gj"
      }
    },
    {
      "cell_type": "code",
      "source": [
        "M[2,5]"
      ],
      "metadata": {
        "colab": {
          "base_uri": "https://localhost:8080/",
          "height": 176
        },
        "id": "VnTO-rq75-t3",
        "outputId": "d632df55-c8dd-4221-d93a-4b27d995d4da"
      },
      "execution_count": null,
      "outputs": [
        {
          "output_type": "error",
          "ename": "IndexError",
          "evalue": "ignored",
          "traceback": [
            "\u001b[0;31m---------------------------------------------------------------------------\u001b[0m",
            "\u001b[0;31mIndexError\u001b[0m                                Traceback (most recent call last)",
            "\u001b[0;32m<ipython-input-14-f82d2a48c6ef>\u001b[0m in \u001b[0;36m<cell line: 1>\u001b[0;34m()\u001b[0m\n\u001b[0;32m----> 1\u001b[0;31m \u001b[0mM\u001b[0m\u001b[0;34m[\u001b[0m\u001b[0;36m2\u001b[0m\u001b[0;34m,\u001b[0m\u001b[0;36m5\u001b[0m\u001b[0;34m]\u001b[0m\u001b[0;34m\u001b[0m\u001b[0;34m\u001b[0m\u001b[0m\n\u001b[0m",
            "\u001b[0;31mIndexError\u001b[0m: index 5 is out of bounds for axis 1 with size 2"
          ]
        }
      ]
    },
    {
      "cell_type": "markdown",
      "source": [
        "За приступ елементима у библиотеци NumPy може да се користи оператор исецања `:`. Ево неких примера употребе на матрици `A` која је приказана доњом сликом."
      ],
      "metadata": {
        "id": "gc6GLJcfvEvl"
      }
    },
    {
      "cell_type": "markdown",
      "source": [
        "![image.png](data:image/png;base64,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)"
      ],
      "metadata": {
        "id": "UGjJ6-rHwRcs"
      }
    },
    {
      "cell_type": "markdown",
      "source": [
        "Прво ћемо матрицу `A` брзо креирати тако што ћемо направити низ бројева од 0 до 24 (то можемо урадити уз помоћ функције `arange`), а потом променити њен облик на 5x5 (то можемо урадити помоћу функције `reshape`)."
      ],
      "metadata": {
        "id": "QnMNqzs2wcxA"
      }
    },
    {
      "cell_type": "code",
      "source": [
        "A = np.arange(0, 25).reshape(5, 5)"
      ],
      "metadata": {
        "id": "is_vvcnowVMw"
      },
      "execution_count": null,
      "outputs": []
    },
    {
      "cell_type": "markdown",
      "source": [
        "Жути блок:"
      ],
      "metadata": {
        "id": "5IUS5QYxw_Gy"
      }
    },
    {
      "cell_type": "code",
      "source": [
        "A[4, :]"
      ],
      "metadata": {
        "colab": {
          "base_uri": "https://localhost:8080/"
        },
        "id": "vyTPHIgswzU0",
        "outputId": "20104f2e-f089-44c2-a733-0e5a104a9377"
      },
      "execution_count": null,
      "outputs": [
        {
          "output_type": "execute_result",
          "data": {
            "text/plain": [
              "array([20, 21, 22, 23, 24])"
            ]
          },
          "metadata": {},
          "execution_count": 17
        }
      ]
    },
    {
      "cell_type": "markdown",
      "source": [
        "Црвени блок:"
      ],
      "metadata": {
        "id": "Ca-7BReUxBqj"
      }
    },
    {
      "cell_type": "code",
      "source": [
        "A[ :, 1::2]"
      ],
      "metadata": {
        "colab": {
          "base_uri": "https://localhost:8080/"
        },
        "id": "l79dg_kAw6jb",
        "outputId": "ac4e3005-8511-45a8-ab69-00b2f93c6dbf"
      },
      "execution_count": null,
      "outputs": [
        {
          "output_type": "execute_result",
          "data": {
            "text/plain": [
              "array([[ 1,  3],\n",
              "       [ 6,  8],\n",
              "       [11, 13],\n",
              "       [16, 18],\n",
              "       [21, 23]])"
            ]
          },
          "metadata": {},
          "execution_count": 18
        }
      ]
    },
    {
      "cell_type": "markdown",
      "source": [
        "Плави блок:"
      ],
      "metadata": {
        "id": "FaOsgIohxEFX"
      }
    },
    {
      "cell_type": "code",
      "source": [
        "A[1::2, 0:3:2]"
      ],
      "metadata": {
        "colab": {
          "base_uri": "https://localhost:8080/"
        },
        "id": "VpgX3LKtxGDO",
        "outputId": "cada3513-ce59-4bdb-9dba-1c705edb6ae1"
      },
      "execution_count": null,
      "outputs": [
        {
          "output_type": "execute_result",
          "data": {
            "text/plain": [
              "array([[ 5,  7],\n",
              "       [15, 17]])"
            ]
          },
          "metadata": {},
          "execution_count": 19
        }
      ]
    },
    {
      "cell_type": "markdown",
      "source": [
        "Сада и ти можеш да се опробаш и покушаш да издвојиш елементе матрице који су обележени као на доњој слици: прво плаве, затим црвене, потом зелене и на крају љубичасте."
      ],
      "metadata": {
        "id": "NO4EJjQMvEcc"
      }
    },
    {
      "cell_type": "markdown",
      "source": [
        "![image.png](data:image/png;base64,iVBORw0KGgoAAAANSUhEUgAAAO8AAADrCAYAAACB4cGvAAAYemlDQ1BJQ0MgUHJvZmlsZQAAWIWVeQk4Vd/39z733BHXPM/zmHkm8zzPYyrXPNM1RZGQTIUMKaSQSNGISsiQkkyRUkkhlEqDKeR/DPX7/r+/93nf593Ps8/5nLXXXmuvtYd11jkAcHSQwsKCULQABIdEkG2NdHmdXVx5cdMAA9AAD4iAheQZHqZjbW0OkPLn/r/L4nMAbd6fSW7K+u/2/2uh9/IO9wQAckOwh1e4ZzCCWwFAJ3qGkSMAwOojdIHoiLBN7IdgRjIyQAQf3sS+2zh7E3ts44otHntbPQQ3AoCnIpHIvgBQdyB03ihPX0QO9STSRh/i5R+CsC4jWNPTj+QFAIcKwrMrODh0EyMViCL8YQjORLCKxz9k+v4v+R5/5ZNIvn/xtl1bBa/vHx4WRIr5/3TN/7sEB0X+0SGMVCo/srHtpv2ID18EhpptYioEz4V4WFpt+hrBy/5e234HAEXhF2nssM2P4vQM10P8B5gRLONF0jdDMCeCDUOCLM136B4+/oYmCEZWC+qgf4SJ/U7fVO9wA7sdmcXkUFurP9iHrKez07eWRN7Su8nfERnooLMj/4Wft8kf+T9j/eydEEwBAEwR5e9oiWBqBDOGB9qZbfPA/LF+epZ/eMiRtpvjF0SwineIke62fNjNh2xou8MfFhz+x144xc/fxHIHF0b42Rtv+we+7EnaGj8rguu9Q3Qc/sjxDnc2/2OLl7e+wbbtcK93iMOOvfBYWISu7U7f+bAg6x1+NN47yGiTzo9g9vAou52+6N0RyOLclo82D4uwtt8eJ9o9gGRqvT0edBQwB3pAH/CCSKR6gFAQAPx75xrmkKftFkNAAmTgC7yB5A7lTw+nrZYQ5GoHYsFnBHmD8L/9dLdavUEUQl//S92+SgKfrdaorR6B4AOCg4EZCEKeI7d6hfzV5ggmEYr/f2n3RMYahNTNtv+m6SAU8x1K5B+5vDR/OLEGWH2sMdYQK4ZmR2ui1dHmyFUbqXJoFbTqn9H+hx/zATOAeY8ZxoxjXu73TyT/aywWYByRb7hjscc/LUYLIzIV0bpoDUQ6IhnNjGYHkmgFRI8OWgvRrIhQ9XbGvWk77//Bzr8W/MPnO3wEGQKKwELQJoj+uye1OLXiXymbHv2nf7bH6vHXq3p/W/6tX+8ffvZC7mb/5oRT4ZtwF/wAfgw3wQ2AF26BG+Ee+P4m/ruGJrfW0B9ttlvjCUTk+P+XPtKOzk1PhsvUyMzKrO20gQjvgxGbG0wvNCyG7O/rF8Grg0QBb16TEE+pXbxyMnLyAGzGlO1j6oftVqyAmPv+QyMhMUNFDtnSuv+hhSJnQ20+sjXO/IcmjOxdNlUAbth6RpKjtmnozQsGOQ1okB3FBriBABBFLJIDSkAdaAMDYAqsgD1wAfsQP/sh65kMosFhcBSkgAyQDfLBWVAKykEVuApugAbQBB6Ah+AJ6AfD4BWyfqbAJzAPFsEqBEE4iAgxQGwQDyQESUBykAqkCRlA5pAt5AK5Q75QCBQJHYaSoAzoFHQWugBVQ9ehO9AD6DE0AL2E3kGz0HfoFwpGUaEYUVwoYZQ0SgWlgzJD2aP2onxRB1CxqGTUSVQhqgx1BVWPeoB6ghpGjaM+oRZgAFPCzDAfLAmrwHqwFewK+8BkOB5OhwvgMrgWvovM9DN4HJ6DV9BYNAOaFy2JrGFjtAPaE30AHY/ORJ9FV6Hr0R3oZ+h36Hn0bwwRw4mRwKhhTDDOGF9MNCYFU4CpxNzGdCK7aQqziMVimbEiWGVkN7pgA7CHsJnYEmwdthU7gJ3ALuBwODacBE4DZ4Uj4SJwKbgzuCu4Ftwgbgq3jKfE8+Dl8IZ4V3wIPhFfgL+Mb8YP4qfxqwRaghBBjWBF8CLEELIIFYS7hD7CFGGVgo5ChEKDwp4igOIoRSFFLUUnxWuKH5SUlPyUqpQ2lP6UCZSFlNcoH1G+o1yhoqcSp9KjcqOKpDpJdYmqleol1Q8ikShM1Ca6EiOIJ4nVxHbiGHGZmoFaitqE2ov6CHURdT31IPUXGgKNEI0OzT6aWJoCmps0fTRztARaYVo9WhJtPG0R7R3aEdoFOgY6WTorumC6TLrLdI/pZuhx9ML0BvRe9Mn05fTt9BMMMIMAgx6DJ0MSQwVDJ8MUI5ZRhNGEMYAxg/EqYy/jPBM9kwKTI9NBpiKm+0zjzDCzMLMJcxBzFvMN5ufMv1i4WHRYvFnSWGpZBlmWWDlYtVm9WdNZ61iHWX+x8bIZsAWy5bA1sL1hR7OLs9uwR7OfY+9kn+Ng5FDn8ORI57jBMcqJ4hTntOU8xFnO2cO5wMXNZcQVxnWGq51rjpuZW5s7gDuPu5l7loeBR5PHnyePp4XnIy8Trw5vEG8hbwfvPB8nnzFfJN8Fvl6+VX4Rfgf+RP46/jcCFAIqAj4CeQJtAvOCPIIWgocFawRHhQhCKkJ+QqeFuoSWhEWEnYSPCzcIz4iwipiIxIrUiLwWJYpqiR4QLRMdEsOKqYgFipWI9YujxBXF/cSLxPskUBJKEv4SJRIDuzC7VHeF7CrbNSJJJakjGSVZI/lOilnKXCpRqkHqi7SgtKt0jnSX9G8ZRZkgmQqZV7L0sqayibJ3Zb/Lict5yhXJDckT5Q3lj8g3yn9TkFDwVjin8EKRQdFC8bhim+K6krISWalWaVZZUNlduVh5RIVRxVolU+WRKkZVV/WIapPqipqSWoTaDbWv6pLqgeqX1Wd2i+z23l2xe0KDX4OkcUFjXJNX013zvOa4Fp8WSatM6722gLaXdqX2tI6YToDOFZ0vujK6ZN3bukt6anpxeq36sL6Rfrp+rwG9gYPBWYMxQ35DX8Maw3kjRaNDRq3GGGMz4xzjERMuE0+TapN5U2XTONMOMyozO7OzZu/Nxc3J5nctUBamFrkWry2FLEMsG6yAlYlVrtUbaxHrA9b3bLA21jZFNh9sZW0P23bZMdjtt7tst2iva59l/8pB1CHSoc2RxtHNsdpxyUnf6ZTTuLO0c5zzExd2F3+XRlecq6NrpevCHoM9+Xum3BTdUtye7xXZe3Dv433s+4L23d9Ps5+0/6Y7xt3J/bL7GsmKVEZa8DDxKPaY99TzPO35yUvbK89r1lvD+5T3tI+GzymfGV8N31zfWT8tvwK/OX89/7P+3wKMA0oDlgKtAi8FbgQ5BdUF44Pdg++E0IcEhnSEcoceDB0IkwhLCRs/oHYg/8A82YxcGQ6F7w1vjGBEXt57IkUjj0W+i9KMKopajnaMvnmQ7mDIwZ4Y8Zi0mOlYw9iLh9CHPA+1HeY7fPTwuziduAvxULxHfNsRgSPJR6YSjBKqjlIcDTz6NFEm8VTizySnpLvJXMkJyRPHjI7VpFCnkFNGjqsfL01Fp/qn9qbJp51J+53uld6dIZNRkLGW6ZnZfUL2ROGJjZM+J3uzlLLOZWOzQ7Kf52jlVJ2iOxV7aiLXIrc+jzcvPe9n/v78xwUKBaWnKU5Hnh4vNC9sPCN4JvvM2lm/s8NFukV1xZzFacVLJV4lg+e0z9WWcpVmlP4673/+xQWjC/VlwmUF5djyqPIPFY4VXRdVLlZXsldmVK5fCrk0XmVb1VGtXF19mfNyVg2qJrJm9orblf6r+lcbayVrL9Qx12VcA9cir3287n79+Q2zG203VW7W3hK6VXyb4XZ6PVQfUz/f4Ncw3ujSOHDH9E7bXfW7t+9J3bvUxNdUdJ/pflYzRXNy80ZLbMtCa1jr3APfBxNt+9tetTu3D3XYdPR2mnU+emj4sL1Lp6vlkcajpsdqj+90q3Q3PFF6Ut+j2HP7qeLT271KvfV9yn2N/ar9dwd2DzQPag0+eKb/7OGQydCTYcvhgecOz1+MuI2Mv/B6MfMy6OW30ajR1VcJrzGv09/QvikY4xwreyv2tm5cafz+O/13Pe/t3r+a8Jz4NBk+uTaV/IH4oWCaZ7p6Rm6madZwtv/jno9Tn8I+rc6lfKb7XPxF9Mutr9pfe+ad56e+kb9tfM/8wfbj0k+Fn20L1gtji8GLq0vpy2zLVSsqK12/nH5Nr0av4dYK18XW7/42+/16I3hjI4xEJm29CsBIRfn4APD9EgBEFwAY+pF3ij3bOd9OgZGXDxRyd4SkoE+oDjgJbYfRxorg2PGsBB4KDUpLqkBiNvUdmjk6SXpvhnLGCWZxlhjWFnYaDifOCq4fPLt5k/meCtAJ2gqdEH4iCsTkxX0kTu/qllySFpWxkU2Qq5EfVkQpySrvVUlXrVd7t5uooaLprpWmfV3ntR5eX8nA0zDbqNF4zBQyEzQ3sgiwzLK6Zf3CZtmO2V7ewcox2OmEc63LE9d3e+bdlvau7gfuFCQ2D0lPHS9b7/0+3r4kPzv/3QG8gVDgeFBL8PmQpFC/MOsDKmTecHz414jnkc1RVdG5B+NjgmJdDpkc1ohTjlc6opqgc9Qs0SnJOzni2LGUvOMVqTfTWtN7Mp5nvj0xffJz1vfshZzFUwu5C3m/CtCnmQp3nTE661l0pLiwpPZcS+mT80MXRsvGy2crflbCl5iqxKt1L7vVRF/Ju3qjdqDu23W6G/I37W6F386ur2642/jgTvvd1nv3mm7fr2uubilvLXmQ35befrgjoNPuoVIXa9fKo/HHfd0Pn7T3PHja1FvXV9gfPqA3SBx89qxoyGdY8Tnm+chI1Yuol9qj2NEuZH0pvp5+kzOmPjbx9sS4+vind6XvbSfgibpJh8mVqbwPuz60TNtOT84cm5WenfxY9SlkTn5u4XPdF8+vdF9vz1vPf/h2+DvL94c/sn6GLJAWfZB1NPmrc11qY2Nr/gWga6gAWA6eQV/HJGCdcRp4SYIIhQglP5UMUY3ahsaTNp6ulL6ZYZaJllmFhcSaynaLfYyTkkueew9PAu8Fvhb+VwILQpTCPCKKoiZi7uIxErm7rkv2SM3IoGX55HbLuypEKGYoVSjfUXmq+l7t526sBoemrJaFdpBOlu41vX79z4Z4Iy5jORMDUwczT/MQi4OW8VZJ1sdsUmxT7dLtMx3SHZOdYpz9XOxd9fdouRnudd0XvT/f/RqpzaPbs9PrtnexzyFfJz8Zfyr/uYD+wLtB1cFFIVmhiWHkA25k7XCe8NWI4cirUSnRHgcNYmRiBQ9xHWaLY4qnPYI9spjw/mh34vWk/OToY3tTTI/rp5qnkdKPZlzMfHhi7OSXrIXspZyFUz9y5/M+588VfDm9fIb2rGpRSHFlSe+5idLZ81MX3pa9LB+oeHSxubLpUnfV58t8NXuvFF99Wcd4zfJ6KnJ6rdyWqvdqKGocvIu5p9C0//6x5sqWptbmB5fbstvjOqI7Ex5mdZU8Kn98rvvkk8geu6eSveje0b4b/RkDAYM2zwyGDIZtnnuMRL5Ifnl8NO6Vz2u9N+xv5sbuvD0+7vxO8j3+/YeJ9smSqQMftKeppodmymePfPT/5DXn9zn4S9jXsPmwb+TvUT9ifkYv+C8aLdEs3Vw2WH6y4rry+Vf/GtX66Nb8S4AOyAx6gfKGsXAWWgLdh4nFSmNncRfxfgRpwgpFN2UpVTTRllqOhppmkfYlXSt9NUMuYxyTL7MtiwarGBsT2xr7DMcgZzNXLXc5TxFvAV8ef5ZAimCUEEnYQIRXZFm0R6xUPFzCeBefJEpyVmpE+pHMXdnLcoXyCQruiqpKWKU+5XwVZ1U21ZdqJepeu+U0sBpjmvVaWdp+Ovq6wnq0+kD/h8G04XOje8YFJt6mQqbjZoXmVhY4i3bLJCsTa1brjzbNtrl2fvbqDkSHMcerToedTV2YXN66Vu0JReL/yt77+xL267nj3QdIxR6Bnru9qLxGvS/5HPBV8V3za/FPCNAOBIGtQUeD9ULQIZ2hx8J0wpYP1JBdkJhdHWEV8TOyMGp31Fh0wkGug/dj3GOZY0cP1RxOinOOF41fPNKekHvUN1E/STyZ9RhlCkj5eXwi9WlaXXpmBilT4QTuxOjJa1np2YE5RqfoTz3M3ZM7lxebr1Ogezr1DP5setFkCds5uVLV86oXFMuky0Ur+C6yVdJdoqgiVNMgK0njivvV47VX655dW7shetP11qnbAw2MjS53iu+ONGHuizUbtXi0Hnlwrq25/W3HxkO+Lr1Hvo8zu68/ed6z3ivWt6f/9MDYM7mhE8NfRuxe3Bnle5X/Rvot9bvoyYyZmM+W3xdXbDbnf/vb32bBKgGQi+SZjieQOgtATgOSZ94DgIUCAGsiAPaqAHW8FqCMagEUeOxv/IC2vo7SAGbAA8SAApJpmgNXJG8+CNKQjPIKaAaD4ANYg+ghMUgbyQ/DoRNIPtgJTaAgFB9KF+WFOo5keYOoX7AAbAHHwlXwCBqPVkMHo8vRLzH0GDMkI2vHQlhtbAK2DYfBmeKycS/wfPgg/B0CjuBEqCL8orCguECxRGlJWUWFpvKgaicKEdOIX6jtqZuQTCeHFtAeoJ2kc6Hrozekv8+gwlDPqMbYzmTLNMEcyYJlKWAVZm1ks2SbYU/lkOWY4Czl8uCW4F7mecibz+fFryCAFXgleFMoSzhIxExUQowoNi8+LHFv1znJeCk3aVUZRpl52adyl+XTFPwUTZWklJmUN1Q+q46pDap37+7U6NDs0urVHtWZ0V3UBwZY5JzDG+NNCKZUZozmfBYKlpZWIdZ5Nk22U/ZEBwVHF6c45/MuHa7TbpR7ZfY57j/sXkHq9Vj2EvS28znm2+T3K0Av8EzQSohn6OABQ3JThEJkXbTkweuxuw/1x4Ue4Ux4npiXbH5s8Xhe2q70zkzvk0xZb3Oe5r7J3yjkPatabH5u//mYsvMVo5ckq89fkakdv37h1r4Gyju1TXtbJNp4Og0flfVQ9YkOLA7ljIi+HHh97u3p94Mf3GdXPtN/vfId/JRZVF3aWEn/1bg6tHZvvfx32Iby1vkBbX1zoAccQBjIAS1gAdxAMIgHOaAC3AF9YAqsQ8yQNGQK+UBJUBn0AHqPQqNEUOYoMuosqh31FeaEzeDDcB08iWZH26Iz0J0YCKOBOYS5h1nDamGTsI9xtDgX3EXcd7wOPhf/gaBOyCXMURgic75G6Ux5C8mEyVRDRFXieWpK6oPU0zQuNL20hrStdJp0LfR69N0MdgxvkMz0F1MWszjzE5YDrMys9Ww2bB/YYziIHBWc2pyTXDncpjzUPG94b/Kd5PcX0BVkFfwkdF84W8RHVFdMSJxeAr8LI4mXopaml6GTxcuuyM3Ijyh0Kz5QeqDcrfJK9bs69W4ZDRtNf60IbbKOn66znpG+qoGCoYqRkfF+k3jTC2Zd5vOWHFYG1oFITMuzO22f75DneN6pxfmbq+KeBLen+7j3R7j3eQh4+njle9/26fWd9FsNYA6UD7IPjgo5G9oa9pHMEm4YERV5KWr0IG2MRWzWoRdxwvFxRyaO+ibRJnenRKRi045noDNTT3Jkteck5jrn651WP6NepF6iWip2AV32sCKqkuPS/WqPGqYrb2o7r/XdWLgt23D4zpMmmmb9VnJbZcdsl+7jGz2yvcX9bwZ/Dn17Pv1iYnTm9c+30DuKCcYpwWnj2YI55a/pPyqXglZ6V5PX2td//l7Zmn8UsvvpADeQBJrABviAOFAAroEe8BEiQBKQBUSGCqFW6COKGaWPikBVokZhOtgEToZb4XW0OjoWfRe9htHBpGNGsGLYo9g3OE1cGR6PD8UPEVQJJRQoigCKYUp9yntUqlQPiNbED9SJNHw0rbRutIt02fSS9E8ZQhiJjFVMukyvmWNYuFl6WU+yebDrcohzMnKucr3hbuQ5xRvMZ84vI8AqiBVcEfom/FXkh+i6OLWE4C5tSXepBOkSmUbZZ3I/FNgVTZQSldtVqdTc1K9p4JB31WYdft1cfWaDWiNXEzrTAfOzlqHWDrZydqMOro49zsYuz/b4uC3vS3KHSGEew17K3sW+BL+jARSB5cEWoSCsgRwawR3ZHh0Z43XoS3xFQszR54lryahj+BTa4/Kp4WlDGQ6ZsydTs6VyXuam5qsXfCusPruvmKLkUqny+ftlWuWtF/Uru6usq4dq7K/01xrW3bkueuP0LfztuPq1xrS7wvf67ye2KLXOthV3WD1Ed917HP5Eomey91y/8yDjs8HhrBHTFxujV15bvZl5Gzm+/j5xEp5KnEbNJH1Efzoy9+WL4deY+ZJvJ75H/tD/sfTz8oLlwqtFv8XFpail2WW35b4VvZWaX8RfYb8GVxVXC1e/rZmsla2trtuvX/0N/3b+fWUD2nDYuLw5/+E+8nJb4QOi0gUAM7ax8UMYANwpANZzNjZWyzY21suRZOM1AK1B2/+TtmINLQDFbzdRt/hwwr//5Wz/a/pHHvPvO9iKRFtakUi0WTajEvgfMbPp95tlWqUAAABWZVhJZk1NACoAAAAIAAGHaQAEAAAAAQAAABoAAAAAAAOShgAHAAAAEgAAAESgAgAEAAAAAQAAAO+gAwAEAAAAAQAAAOsAAAAAQVNDSUkAAABTY3JlZW5zaG90o0e06wAAAdZpVFh0WE1MOmNvbS5hZG9iZS54bXAAAAAAADx4OnhtcG1ldGEgeG1sbnM6eD0iYWRvYmU6bnM6bWV0YS8iIHg6eG1wdGs9IlhNUCBDb3JlIDUuNC4wIj4KICAgPHJkZjpSREYgeG1sbnM6cmRmPSJodHRwOi8vd3d3LnczLm9yZy8xOTk5LzAyLzIyLXJkZi1zeW50YXgtbnMjIj4KICAgICAgPHJkZjpEZXNjcmlwdGlvbiByZGY6YWJvdXQ9IiIKICAgICAgICAgICAgeG1sbnM6ZXhpZj0iaHR0cDovL25zLmFkb2JlLmNvbS9leGlmLzEuMC8iPgogICAgICAgICA8ZXhpZjpQaXhlbFhEaW1lbnNpb24+MjM5PC9leGlmOlBpeGVsWERpbWVuc2lvbj4KICAgICAgICAgPGV4aWY6VXNlckNvbW1lbnQ+U2NyZWVuc2hvdDwvZXhpZjpVc2VyQ29tbWVudD4KICAgICAgICAgPGV4aWY6UGl4ZWxZRGltZW5zaW9uPjIzNTwvZXhpZjpQaXhlbFlEaW1lbnNpb24+CiAgICAgIDwvcmRmOkRlc2NyaXB0aW9uPgogICA8L3JkZjpSREY+CjwveDp4bXBtZXRhPgo1Gd1VAABAAElEQVR4Ae3dCZRlRX04/uqeme7ZF5AdYQYkBtdoEhQ1cUCUxF0RIYoRNxKNxpio56hZTDwnP/V/1BiN+xp3CC4xuGJEcCOIKCKyCcMyM8AMw+xbb//61FDwaLtnut+te7tbbg2X9/rd925967vXt771rZ6R2ELbWgy0GJhxGOidcRC3ALcYaDGQMNAKb8sILQZmKAZa4Z2hhGvBbjHQCm/LAy0GZigGWuGdoYRrwW4x0ApvywMtBmYoBmY3BbcVqU2bNoVrrrkm7Nq1K/T2Nq83wLB79+7U9+zZs0NPT09Tw7+7n+Hh4TAwMBD0P2vWrLs/b/LN4OBgAAcYppIOxg+GqWhDQ0PBBYapoANexAdLliwJD3zgA8OCBQsmjYZGMIdZ1q9fH84///xw+eWXh2XLloX58+dPGtgqP9i+fXtYt25duO2228KKFSvC/vvv3yjjItbmzZvD2rVrg/dHHHFEVwSrggPMevvtt6dr6dKl4bDDDmtUeIwbHW688cakRNEB8zbZ4ODOO+8Mt956a5g7d244/PDD02uTMDBeq1atCjfffHN40IMeFF7+8pd3xQu1C+/OnTvD6tWrw7e+9a3wy1/+Mhx//PEJ4Hnz5jWCLwyzZcuWZPHXrFkTfud3fiecfPLJYfHixY0JL4a54447ws9+9rPEOA972MPC7/3e74UmcYAOt9xyS1Ie++23XzjxxBPD8uXLG8MBS79x48bEAxj3kY98ZHj0ox8dFi1a1BgfoAMcXHbZZalfvPi7v/u7Yc6cOY3AAAfbtm0Lv/jFL8JPf/rTpMAodMLcTatNeLOW/fWvf50E91e/+lV4znOekwhGcOp2WfXvghwWF9Ee8pCHJMFlcbiLdcOAINx0/VNcGzZsCCeddFLCAcvXRP+ZYVi7K6+8MixcuDDRgdXr7+9vBAaeF+XF0lDkK1euDCeccEI44IADGlEe+ICLqn+eByF+xjOekRQID7AJOsAB5QWGiy66KBx11FHhAQ94QCAf3bZahBeyduzYkazdJz7xicS0b3rTmxKwTc1xMO3WrVuTlv3f//3fZO1ZXO5yE8RCEAyDafV/6aWXhj/7sz8LD3/4wxubMmQ6XH311eELX/hCOOSQQ5KLBgdNzfMIiljHD3/4w/B///d/4Y/+6I+S8JrjNUEHOKBACe0555yTLN/pp5/eqMWFA4L74x//OHz0ox8NT3jCE8Kpp54arr/++jSFmDbCS2jMa370ox+Fz372s+Hggw8Or3vd69L8qgliQQQYWLnvfve7Scs96UlPCn/8x3+cXKWmYKBpr7vuuvDf//3fyVX967/+6+SmNqW8MC3lhWEuuOCC8IhHPCI861nPSoqjSRwQmq9//euJUVm73//9308Wv1uGnczv4MB04dprrw0f/OAHw5FHHhle8YpXJCXWVKCO4IpznHfeeSnm87znPS885SlPSXQwfajSilpeDCsgxC34/ve/H8ztMAwBbophsntE03NJuOoYpin3CMOY1wjMgYEiobwOOuigxqwdHHDVWTpwmFs+7nGPaxQHhIZlufDCCxMsz372s5P309fXV4VfJ/xbeOf1/PznP0+eD+V1yimnNBbrwAfmsnBAeZm2nHXWWSnm001keayBFxPeHJhCLBNywQBzG0zbhLWBLK46a3fxxRenINVTn/rUxDCiik0oD8pLJFMwQnDq0EMPTS4S5dWEps+WxrwKDswvH/vYx6a5nahuEzggNAKE5tdg0CcX0RyP4NYNAxxkI/KTn/wkXHXVVUl5cdebjDOItYjzmDKRjac//enhD//wD1NUGQ7AWbVVFl5AmFNwTbip3CSIcolqNsG0XBPWjpblJgqIcZWtnzURScw4sByGYWlbUUwKTFCmbobFBGCgvHgbLD6GEVEWpBPVbgIGQmN+e8kllyQFTnFT4AKETcyx4cC4BSfRgeU97rjjkufV1JJUnuNT3t/5zneSt/O0pz0tPPjBDy7u+VQWXshiab/61a8mBsIwj3rUo7pat+pGE+VggDl2tnYCU6xdEwwDZkzLLcIwpg3cdEshTUTV9Z+VB4vP2rBwT3ziE9OyWBNeT8YBV/2COL++4YYbkvLCC6xdUw0vCs794Ac/SAZFnOPYY49NQtMEDOhAYcABIyJA+MxnPjPFOuowIl0LL/dIBI21+9znPpe0Kw0DWU2tXxIai+0EF9GsnT7mMY9JSSBNWJrMtNwjc3zwWALJOGgCBnQQmNI/hrGObX57//vfvzHlZW7HVf/e976XPC80yMqrCaHRhyApXsQLpkkU+NFHH91YcAwdWHwBSq668VsWRIe6+KAr4WXtCI3AFIJxT0USZQ3VoWHGYgCuOobBtNxVbjqENbkEgWF4HXAga4zgNjW3g5McmBJnMMckNAIz97vf/RoTXK66KVO2dqYrpgxNZdCxdpSXpTieD2GBB5lTTXhe2VXHi+eee24S4Cc/+clpylT3HHvSwothBELy2qVJuMk4QJty0QgN1wzTYh7ukTlFU3O77KoTXPMaGj7P7ZpSXqwdTU9obrrppuQmE1xC00ScAdOiwxVXXJGi2hI+/uRP/iS5iE0EprLy4qbyOETWzW8JLuXVFA4Epljab37zm8kTtYaMDk0YkQkLL2KxdhiGm2x+ydo+/vGPT4ZRoKKJRnmYX/7P//xPclPNKWhbQuxqoommctE+/elPp2gy5YFYCNlE46LxfKScogc6HHPMMWlpottUu8nCjRdMVb7yla8kYRHZF6BkBZtocCCyL0hqDfVlL3tZWpoktD5vosE1HIj3UNoveclLEh2aWg6bsPBClmDMJz/5yYQwa4eaOUaTTTSbm2p+yUUT2a262D0Z+PV72c8uDxf84Efh2Ic8NOzu7Q9f++5Fk3lE5e/u2BqVx49+EDbHxf/jH3VcuDl6AKtj+mVTjSK/PQrIeV/7Wjj0fgeE34nXFRd9P1zR4Cat7VF5/DzuULsixhvMbylOFripBgeSL7jrNhe84AUvSHGfJix+HuOkhZe2sQRiTmF5xtVk46KAAcEgqimLn8fITfvhFdeEn+9YFC795ebw6au+F0KDTAuO2ZvXhQdd/5NwfHzdeOH3QjP2PmMghJ3x7Q0h5oaH4bBffH/j/3y1aRSEtbHHVTFj6uSXvTRN2XhDTTaeB6MhR1wiUM6XbxKGCQsvoAgLoX3oQx+aXJSm5nedCPla1PaWRF74whd2ftzYe/PLn922LVw6Jy6yLzo09hslt7ch6Y3aPsT/htf9Ohx80y/CCfGP/e8aeUMQpN44xnOj4Ho9KV7Nbu5MKAhXxbEPLVoYTnvuc8MBcVmw6Wa+b0mIi24NuUmLm8c6KeEV8iaw5ne2ck2F8ApKCY40tZUsIyq/Gvuc/rnR/A2FMCcmP0TBXbz/otA/u97iAlt3DYbtO3bHEPNQ6In9z4mK1KZKW7ht6e+730GhZ9akyJmHNOnX/uGhsGhgdxiJqw77z50fFkRY6m8jYTiOf3DzljAUdkXlEcccN9LbJTUVvCCSjRdZ/LqWgvaF02aovS8oZvD9Bf1zwl894dhw8ML+Wkdx5e1bwkf/74YwsCG6hx1m1ttFxz443O8FLwy9i5vZG7t567aw36+uDD3btobDHnV8WDiPKNXchmIFkpvWhI0xOLX5qp/dhYIORNTc/XR8fCu8Fakyf86s8IJHHBmOWDb5MiaT6foHq9aFj//spmh5h0MYsld5z6/ZvPkPfkhYesafhdn7m4HW33pics6CmGy/K74ue8HzwqJo/epurPzuq64OO379qzAShTdiIba7kFB359P0+a3wViRMnEmEeX2zwvx41dm4iMN4dWQ4/heFt6OzHrWo5C83VFqoNwZrevriJoM4heppqt8ovKYLYVbv3WPPCqwDFfept01MVn7rETotnLemgaC1Gm6dCqvhrqdld63wTkuytEC1GNg3Blrh3TeO2m+0GJiWGGiFd1qSpQWqxcC+MdBYwEo6mcwoey6ti9m21VQCOzRI75TaKDfaxgJ9u5paXM+54XAADuuEcGCtvCkY4ED+t+wg8OgbDDaUNL1WqX+80EmLfbNr9W/AgX7RIDe0wAtTkbeQYejmtRHhhTAJ63Z+KFMDSbaNydSyYb2Jpn9J5FLaLKzbc6vGlqSLJhqGUU/K9jl5uJhF6U84kNBft/CggVRWhe/lqGNeO8Hk5doDDA91w9CJ55yLbE+4HWEqfjTRKC850Da3UJrGbDun7aSyB2dSa0R4Ma5C1+985zuT5oe05cuXp50gf/AHf9DIVkIMa7+l1EpbGk877bS0la8p4cWstlHaQsf6S6vTt2r59gET5jobS6ei5tlnn5228hFedCE4Z555ZlIiTVkefduV9b73vS/lpuu/KeGluG2Yt/eX0jRmecn4sRXeMTjQ5oEvfvGLad+jrVuYyF5cO5JsZWvC8kipZOm4ie9617tSxYdO12kMsIt+pH+VPlh7DKOIwOc///n0ak80HNTZWBhphPZe2/MrN/cb3/hGYmKVN1jgJoSXm4z+xm5bKZe9qS188EtxKt4AF3alqTHGA1Fva6a1Riwvq8PyHnjggQlhtlL52w4hhOS21O2yqWll36tN/DR+0w2z2PdLQMw57cc112L9mmi8HQn0hBfObaUkxJQKq183/vMYue72ANvgYerEC2q68UJMI9CB9wMOPDjTWiPCK0iDYQiv/Y8sMatHqDEvZNbdMCgNK5G9KUbtHBNBxSgYhvJSAcPf9kWDqYmWAzMf+chHwgVxRww6KBLHdW6iCgpaOyXSzrCVK1cm78d0pslGieEFRQxMo/wNB/bjEuKZ1BoRXq4SYaXtBKy4LgTI300IbidBpkJwc/9wwNI4eoTnodYRl7nu+W7u36vxU6LmeZQqF9Ie5eVxzke462zc4y996UspcGa6pLACGCgRMLB+hKnORmH+6Z/+aVKa+uIFqMriNIVWeMfAPNcs181Vtoa2VTAtL5U0JVDZXQKi9/lqon8KjMU1z1RXWfkg2l5h9iZaHruxnnHGGamYASVi7kmR5Ll4nbAQXpU2uc6CRhQ5j0wQUQBJudq6hTfP++HBxeN473vfm/ixzrGPfnbmPa/dtkYsL7eQZhNppW0dtSnqp75xU7WNLRWp8KcoOQtI03vP2gha1G11MKwiZepeCY4IElm2gA8F0+q2vsZMaaqtbK7LhTVmXpDgVRUmmijz6VelUbCAg9X3ngCzvnU3Y8R3aE+Z8vy8pzBY5CYb/KM9vuwW940IL3eIq6LaogOfMAzGIbxNndq3Kq7vfvzjH08Ci0iO3Pzwhz+cKh7mA7jqJB4GZXUpLkErVg8OVsa5n3N86hZec20F2RUPNPfHuJQXF1oplybmvLyMV7/61clVhutPxBMkFW9z8JYpRN0wGLNAmbku5YEPeYD4M9dkq5MHPJugUuSWyhTPo0y6bY0IL42rLCiESVLAvAQXwrjUTTR9IpLa0s+NpVNoW3A1VS5WP06SUEVfy+4hjV+31dcfwVBlk6DS+JhIgoh1diVT4afupg/KIlsa9IcH8/4mPDBuMi+Q8jKFYfXRBBxKxtbd9GfqIFkpL5PhSXB10xoRXszJNX3Ri16UXCV/cxXNg7sFfLKD5bYrzQmBuWViNqFAeBjqbrGAmXnBgZkokbobwbGW+8pXvjK5qKwQxYEOXrMyqRMO+O6kdy4S35QCNUaBOucky+zCC+bA1tjrdJvRW2DOtEW8w3KlNX+fm+t32xoRXsDR/AS4003uJGS3A5jo7wTHstWb6G9Kfs/4WZ2pahiXkMgiykGy0cLUNGwEx9Vko6jFHDIt6sYBATW/lY5peY7lXRmnSjLKTCOrKM3GhDcTqAqw+RntazUM3NdpULfAdlKHpyUZSU45A2K1xQkblHlVOjQuvJ0Da9+3GPhtxoAovrmtwBRrLxlEzIXgdk6dusVBK7zdYq79XYuBvWDAnFp0/9vf/nbKYLOGbdpIcEu1ck8qBVH7nBYDMxgDgmACUyyuQ8ZFsuW0i3CXXlVohXcGM8rdoMegSFy43XPd/WGNb2JfI/prst/Unz5rHFfFRxNc68giyrLHRNMdPWuuW0dwthXeigSbqp/HRZd4WlBcL47XUCyCvvvqa0Jv1O5NtF0xsWAw5mg7vWBX7LevgaWumBIVBmTHNZCJNVkc5qUgmy5s9bSObveWlNOSbvJouFrhHY2RmfD3XYv6jvpSwXnrLy4Pa//f/wu9DSRaQM+mgcGwMSY5bB4cCLfGlNetcd2+7kZABjdtDtti5HY6GV/r5XbH2WLp9ErJJrnQQ52CC9+t8NbNdXU8PzKyf4PpCmHbTTeE7fFqqknoczKh13VRcTR1TiShzVd8O+WN4Fq3VVZHxpZIsvmtyHITGWuTEt684CyZ22byJgAcTSHIkg+q/6lokul3bI2saw/9nE1heM7usC66SX27HPtVX9u0/o4wsiUeGr0j9r07usnxsC8CNCkCFgKPsDoh0OuGeDVzpHnsqKPpf3u0/FzU4S7TCzseN+m3NpXgBbuk8KM0S2mmkpDqtrgZ2EnR3k4MCf6S+pWxKR09y0Dt7VUROQT7j//4j719rbZ7FNd1l18VhtYPxHMul4bt/bPDRz90Y9h/fr01qK5fvzXMuyruxtoQRWb7xnBL7O87Bx0bFhVcepgo0nbEwMzNMbme8IwsXRb6G3CbR8O2dvu2cFOE4+PxsPf5De8IAovkC1lTMrbsEHNmtWyxqokXo8e5t78nJbyEVXL7UUcdlTYuT4Xl/c53vpO2Fk7V+bw2098y8KVwzY1DYWjhIWHeornhtOc9MRy2pF7Le8lNd4Qvf+nSEFZvjBZ4TXjg0Y8KLznj2eHg++2/N/rWcm9TnONJ9dsYg0fPiTui6swLHm8Al8VdOV+Lh52ddvrptdf/GguGXIVS6qPAVN6vPtZ36/psUsIr3C0/Vo6w3Sl1b2Mba9D2BNuXS4FMRaNZFyyOUd0Fcdli0f3CrMXzwhFHLg9H7lfvftDVIwvD4JJb4mRzVlym2REW7Dc/HHnU0eGwg5vPlzZ1OSAGjmZHq7M8FvVrOj8Z3ddFGBbF4JANJ5Ifmm6ypwSp7JRryk0ePcZJCa8fY14W2NWki5AB12e+8mdNvuq7J16hJ4ZOeuJrwscemGqFozcKrf7iRYmKNE8VHjLtExx30aPWsY/xcH1PZf+JD6Zgrt2JisgNbWsx0GJgJmKgFd6ZSLUW5hYDEQOt8LZs0GJghmKgFd4ZSrgW7BYDrfC2PNBiYIZioBXeGUq4FuwWA5NeKposynLFAGH90c09Vw77j75f6u+9waCPDEOp/kY/J/fv89F4kB+bm+WHOtre+ncv32+CDqPHP3q8YNnXd0b/ZqJ/53H6fu6j87PO5+T7nZ9Nt/e1Cq90SrVxMaiEjryYDWHuKTjtVYaONLM6EGaPpVQ2a5Ng6OwDHOBzyRZzdd4vQSxj93xwZBzkPnymhi/43FNJEpylGxzrQ+us1Gj8MoTAoNl3ihYZvvRhgf/BgbGCw/jGwjNYwOi77vteSTg811i1TAfvwYQ+XnOjRPFjHbTIfZR4rUV4IUplvIsuuihtSlba9HnPe1460Bpi5AfLjf7Wt76VquWr26vwtgOvSxAMI8gCUh/XxmglSaSwKa4ucVyzC+SCmOLnwGvZMsqUnHTSSYmBSyDWM+zvdCavfGzjNkaVFQiJpHZn5IDPaQHKj7qnvrXKhiUYh3J0sJujVKV16uP1r399ElCCouD4eeedl3LVCdfyeF7RypUr00mOWdFWwQU6yEP/ekxjhAMCAsdygTvL3fpcOdQvf/nLSYAV6FddkRBXbdIYZeVJq3W4mGysU089NZXB9WyfOX5WPfHcnCj54he/OKUC58+m42stwotodlsQDpXzMCKiEU71a52N86lPfSoJFQ3nvBzaT950qVQ7eywJL+GRwoaIJ5988t3CS2Dsv1RnyHeVRMW4JZuqCvmUBMrECfSKnFNuFEoWasK6Km74eP/735+U1ymnnFIEDywNJQoHhIPwvuY1r0lDRKO8O4wysTPG9wi7msK2tZVQIMZJcAgHGtg2R0nlBg6nSej7Yx/7WIJRMXg1pks0Sgq/gUFaLeG1bS8/H+0ZGfhxFAvjwftAo+neahFeVgZyTo9J4w6UUssnuyWsHGRClk3LEPae97wnHXnp+6WE16Zowuh5YNB/J0FUqn/qU5+aags5chKRMVLJxpIZEwWGMSkofcAPQWIBwMcKscJvfetbk9Kj4ErggVDaqsaKfuYzn0kCmsfoM6fiKYRPSFlmMPJEKLtc17gqPoyTx6OmE08r4yA/11gpevfQCB14ARnO/L1uX7nIlBF+OPvss9NW0syLnum9/uTKK8bOmFBcitFP91aL8NJe3B7MyzVj3XKjfZ3Xk5EksRyBWR5MU2LDgf4JJ/fMPJLbSGA6Gw184oknJmvAApdw1zuf772x2MRBiDr79577nhkkH7LFTfRZCZdV/yyIY2W8Eg5udG4EVvF1sDmlj3ChjbN6wVACH57hWc4hMmZThNGN0mAVCRCvhHUs2YwPDvCj/k1XRjdK3TTKmcn4Rt2pUspjdF8l/65FeAGIWBhkNBMgkgAJBqXluZNcF4xDC5dq+s3XWM8En6vOlnEwVh8ZL3DBbTP35K04+rNzPjjWbyf6WR5/7mv07zAoxYFpeR+EW1FwDFwKN/r2rLFg4IWp+eTQLdMqBRYodsLU6SWNhnsyf+sXH443HgG8B8SdUfbmKhrHI+QpORCN+85yT9dWm/CON+CMTPdZP2fHQBDkjofg8Z41Ez4fi2kz3JjXvPw///M/k/t21llnJctXIlCT+9jbK9h4PYJ1gjTm5+AxFy8VMNpb/6wdpWG+TXHbYscyEp5HPvKRaX5M8OpsXOQ///M/T+48l91h2/Bgqkeop7Pw1mZ6ICIvg9CigieYFTFsXHZfgMq8C7Nyb12lmrmMPll01t5cK1t3Fsdn+e881/L90XOyKvB4FhxgTDjwqk+fey845JhRQR0HbZuflmTWjPc8LuNEA38bv/caQRXlFvV37KforPsl2ug+0V2/Gf+8Lt4Xz4P7ruYxT4AlLGF9M97RQZ/ggXs48J5bTUhNF/Diwx/+8HRPMK8UDsbCIx7EB65uWy2WF2CYgAY3l4U4LnJG1Iq4kR9SzbMQj7tEkEsFSbI7aKmGgJhLcwnNvRFO1BtxMKk5OdeRu8TquGceXkKILENwCfWDWURcwUNYMIZSPoqXPe1pT0saHj54Isccc0yKCXRL1Pw7eEcHQsGiwQHBWB5jES7RcJeC4O75LmvMlSzVKCYxBzggpPoAg4izfp///OcnWhBo38Mzpg8sYglPjLKEd3xofg0esJiLw7OlLB6AvsAANjECqw/iMnU0vA8XeI7XgV+7abUIL4322c9+Nh1mjSn8/Y53vCO5Qe9973tToS5Mm5eIuM80P9etRIMM85e3vOUt6QhF2h5TEuZnPOMZ4V/+5V+S0L7xjW9MzET7cZcIliMwuVEl5p2CRP/wD/+QBJXScKA2BWK5hrtKcDCTA69FQnkez3nOc8LrXve6IozDijnMXCSbgsI0r3rVq1JA5u/+7u+SsFAg8EOZwBELJJBXgnHRAc7/8i//8m5ra8xw/e///u9JaZ1xxhmJeS0XUZhoYd4v2FdCgcKvvlh2ChQO/u3f/i3R4bWvfW2CD44oWjiAC0uKj33sY4vwwGh+hhMyYbrgsHdGq9tWi/BCurVKIXqCmxuBsDREs2FQTELzcFdEBEtoWn1hQiex/e3f/m3S6rl/QTLIYlkw6Zvf/ObkFeT7PAOwlGBczzzhhBMCZdXZjJ1l0cc//dM/JaFyH8zgY/VLLBN5Jut15plnpjltdgH1w8Ox5kxpWncl5Jha9Nlck0UsQQt9cUnf/e5334sPfM5Fz3j2N8Vl6c7nYCs17xd8e+lLXxokfmQLhz9ZXjxizBQpNx2OWFy86PMSOEAHTd8UA0t/zjnnJE+IohagM/5uWi3CCxgMyi3pbD5HMEhBIIyDaXxWMjCgHwxIe3YqD58jXF6SoTz0n5v7BKgU0UwPuMGdTR/69ypZYHT/4CuFC4qCAuWmd7aMA2uflrLyvAtcFFip8euTYPCqRrfMB/lzYyboLC4awE+JZjyWoMxlO1vGAT6xbEewtDpwgMamMLwQB4/pWwFFbrwpXbetFuEFDGLsjQkhyVVXgyDXeA2DuOps+xpj3f0TQkLiGqtlBh7rXqnP9EGJ7KsR1r3xy75+P959ONgXL6JDiWnSWDAQXPNbsZWLL744eTuMBstuqlCl1cu9VSBrf9tiYIZjgNdHcAmt5a/lMUgocch0pYR30wrvDGeQFvzpiQGCK4rtYG2vpi6WAk0jeBl5/l0F+lZ4q2Cv/W2LgTEwIIYgACbt01Ko0xRka8lvKDWX120rvGMgv/2oxUC3GLCuLFNMlpb5vii3wGXnPupunz36d63wjsbIBP6OUf+2tRi4Fwby+q0kk69+9atpOc7+bUtPdQUmW+G9FwnaP1oMTB4DIsoSLyTgSLiRPWaDh/ltna0V3jqx2z77tx4DAlNSbaVVKihgj7o5bl1LT50InbTw0jIm5NL9vG+66VsmjP6noul/eCgm7Rt7fB2RUrdrd4Rn0qicFPiDMYlgZCgmses7XsORaSQWTAUe9JnpMFUw6J/ggGWqcCDdUrpnTr1U6kkySMnc8L0xyaQ4Li84O58X4HUmWYwHtCwVKWU2EUxFE/a/49bVYWRDFN4otAM7+sNll14S1sbTAutsV66+M8xac20YXL8pnmx9e1i/Zm64LG44uGX/ZXV2O+azRVAFZbxyFZuwMqMBwYPSOlVlkSXVdMP/5rc2PYgkyyKTcgsXJSPKexvXpITXpBzBJHvz8feWwbS3TqvcwzSZaFWe0+1vuUgb190WRjZFC7grbq3b3heuiDum1i6od9P2teu2hjm3rwq7NmwNPTvvDHfeFvu94hdh6eJF3Q6l69/ZfcPi4AG7pqQgNt1WxV1CeWfYRDK4SsPH45DeKFPqSU96Uipw2DQeJiW8skJkh8gUscFgzuw5IVb9LY2X33herIkRM/f3fCxyx+JD2FQ0BLv05g3h8p5oeePh2n0L54bHn/iEcMjiehl4/5vvDB++Y3EI/XfGw7XXhkOOmhceH2t0HXS/5g/XpsDxgp1KT3jCE/akP0Y2aJIXKA3bHO1AqjswNBafWRKygYT7Th6aFlwwTUp4uQN2f9j5koQ3/nxou03b9Qpwz+xYUmdeBHXWnm199v/a/TMVDZEW7XdA6NkYd0stPjjMisK7/KAV4Yil9brNt+++I/QtWRt2bZenPBAWx8O1H/CAY6bkcG2el+kLXNhgsnD+wjC8w/y/3hhIT29U4/2xpE3frOT92TFk8wuD0nTjfai3ZZdQU27y6DFOSng7fzwyEMPjv7wjrP3wdWF4V31E65kTS3E+aHE44LQVof+wfSe4d8JY+/uos4bvGAg3/9PPw+6RrlE5ITDXjewIBw9vD1vq28sxITjG+tLA7TvCus+vClsuu3Os22U+i57XnP37wv5/emhYsvKQMs+c4U/pnuOGRsK2X20Mvz77V2Ewat26WtSz4cBHHByWnXjItBTeoY2D4abvXB0214WAu557W2Te+Y+NVYuOqLmjLh4/uGFXuPU7N4Y13ypb+bETFLOmeQsXhNkxtrD4cQd13rrPvu9eeKUZ7YzLFQO7wuDAHuFNc9OCqDSHimXpwuDmuDwTLf20bDZZx3lPPKgjgVcHDjx4sCdWYBxgdrHx9GojUZEP7Io4iLyg1YEDz5y9eU4YuiNOV+qdpU0v5O4Fmu6Fd9RDBTAWLVsS+uaNvXd01Nf3+ufI8FDYsXlH2LF1T4G0vX55Gt2kaBYuXRT6F1af/46MxIJ1W+M5Qlu2Tsl6ehW0Lly2KMxdAAfVFc1gXMfdum5LiKXjqoD0W/nbYsLbt6w/HPuPjwjLHl99PjKwcVdY/eFrw/WfuSqGZrqvrtc0xWJ5gbDiJQ8Kh77gqMpdD20dCOu+eFO46mOXhx0bZ5YSe8ArHxwOeuaK0BMDjFXblp+uD1e8+OKwKf5r270xUEx4e2bHqoNHLgzzjl1y7x66+Gv2HbtC3/7zksvcxc+n7Cdcu76D5hfBwdCWgdB//7jgHwN2M631HbYHByWE13w61kSZaShoBN5iwptcpLik0xPD+FVb75z4nLgsMBMbhi2Bg545Q1Fwxz5pYLrjpfcuHJQQ3hB5qm1jY6Cg8N7TgUwseacuKZXWwSRXdG6Ncs8Ct+/meyXXy/Srj1w1UTaYfnL5Ef3m73jvvqskDLl/r5048D7jCHze+0zyScmsNc/1fP17b+z60JfL+PN91BuNo3so2t07fXbC4Cnj0Tp/z2snnbrr+Z5feV6mg/HCgednWmce8J3cMi0yr+TPp9trceHNRFAVT9EtqYxyT+V/qqQIIRAltU2RcQv+zs5dvnx5sYRuMOQUPrWDKIkVK1akBX2wII7P1BcCn4whsCkLi7AlGqFQYEwyg+LakluUQrG/U3KD/iWbKAAuU0iZVjjyWkqA5d9KJJCDa4z6hmtVI+FAeqP61vJzMbHKjZJvSuUKe6Z+Mw4UwpPUoeTq6IwkGUuqT4AZnCo6lhAeaYwSKWRkoYdqmXKQJXZQZHCAPngB32jyk1U/LVWCtwQ/jfWMMpza8WQEs3HgE5/4RNomhRiQIgdUwW+lSCX3O59XfR9CpgRsrq1bgmBgkDD/gQ98IAknQcIsUule/vKXp3Q6ubHve9/70vf0qdC6XSGlhFc9asdq2pgNHgqLgtCHkq8E1tGmhJcgEyaC87KXvSwJWCx+2oHV7t46m1dhb8KJieFBTWIF19VudkLBJz/5yZSnDAZMq0CaYvTwBaYqTbnTb37zmwkGO3/gQSqjozQl8isLo+mbcL3rXe9K+IcDZXtLVJN0QgM8U+L4EAyUpNKrSsLiRXyi/0z75dGQ/OM//uN9T3gRA9FZMXsbnYLgFDyHadGoBNWOIPVrpba5f/7556cq+jYx55PrPadKk6yugDhrQvv/13/9V+pD2U2FvcHIEti+RZBp507XqUrffuv5Cns/+9nPTvWIHfdCUJRHyUXFwUaYWAGnx6uivzwyjvrFi2dVzybD/BiV0mJl0MDp846wlBvOwj7mMY9JRdlZJYrGfcIFxszM3eICDlgvfbG2BMnJEGiBNjwAjXfwpS99KVx44YWJR/LpDt322/k7OJDOSxlQHE5rcFoH3EuxZTycloAPcn1pPJhh63zWdHtf3PKyYlw/1eAxjEaLY1yuNMI4TJkmdqyj/Y+0oosWLCG8YOAaYUBE4QnQrIjEImrcp1e84hVJiTjuonSjPBytAhZKQh4uweCeGTshdbA15mIReCgOAXefhSwRYGXJTRfgnwJj5SlSUxZwwT0ccVkpMPcpMZawRIN7XoYLL3g+bwsf5D246GH65KgZih1c2X0tAQMj4rgVOPBcfdtGqN+E57s64Ykcd9xxiV8YmVJThxJjGO8ZxYU3WzQMy0Uxr0MYWpyVcZ+Wx7QYFbMgmM/Mf0s0feQ9ppgEY9oNxG3FIOaU5qBg4rpVtTBjwYxZXXBAYWFcriuBYmkxk8t9SsVhYGAy1/J5iSwiwuPSr7k9Nxpj5j6MG84dLq7SoT2yypMSeDSp2jyf5SU0eTMDoXnEIx6RhMPn5uPOUtKn8RPkkg0fZl6EZ3SAE/3hEeNEJwblbW97W4JL7SnHnvKcSuCh5Hg6n1VcePPDEYZwcge5SVxiLiRhYmUIGA0IoQQXE7tKNppVQIbFwzxOpFseLV6TBDHvcyK7Q9UILhcy74LJloArx2VmodxPimfbPdHPKjgxFRAIQgMBRC4x4aU83QNf9nz0w5UsOX3wTJZdDIJnwSPBBywdb8CcmIJHG1OLDBM+IXQlmmfqCx/wPODZ1IGSpFy48ARVnzw07r2/TTeSIi0BRA3PqEV4MSWBJLgIhlmcNM5V5RpjTsJLy3NvIYt1ogFLNYQQRSQ0AjaO0SQYTREDDlgZQaGPfOQjycILkpiDskhZcDEU4aXcBNMwNc8gLrRVRgXlRXDNJzGtqcxLXvKSu/e/ogGavPjFLw4rV65MxdNMbwRyBK6qCo8xElyeF+Wh6Z/lRWve0Pe///2EJ54HzwB/mJOKiuObqo3gCg7iRfNt9aUEDbnTmvH/xV/8RaIJo+IkRycnEmKxkTr5BX6qtOq+0ajeWU9M63hLARKDJzjmEFlAzYkFCjCXAXgvmGBeWKKBQaUH/V9wwQWJEWhXfeXotz7NfygZn9HM/gZ7VaQaA+WhKJlIJg/ECXhcdn25p79zzz03Rd0F7bhqrICli1KWj6v8xS9+MVk3FpXygnMCxZXG1KYtlAkYXCyxGEEJL0gfrP2HPvSh5AERHME4fZhX6xdO8AYFywK7R6jhpwQd4J7ycqynwJU4i6kS+sNzxgWaoE32yrxSbnU1uEFr/XfbilteRKc9zaEQhKtIu9JkgiPmEqyPyKLgBVeJ0HBlCHWJBgZzGJFdROKa8wAoiKc//ekJJhFOVo87R6l4NRdSGULggltZpWE+1QQvueSSxDSmCDwMEXbumPusATgE6fJ3LaWBYV6o1j/Yra+K6hNGFl00mcVz/iyr5gwdLj1PKFtICnR5nFqUWGsmiJ6P/tzQXHeKteMFUBZnnXVWYmJKEz7giRdgTloCBkqc8OIBEWZ8yRNAY94F5WL1IwsvnFjW5BHihzoaJcErpNzxXrdKqrjwGiytKtQOWQAjxJiGQNC23DLWGGOZk0Lkc5/73LvX/UogDOExB0SJrtLAGBNjgAljYW5CRPvTsuAUge0WmZ1wUyC8Dksk3E+Ca/zwYLw0r7mv+xhH4AazELJkeQsofTBQWF4xCeGBf16IPlw5QYFFZpG4kBQIOKs2/cJrDoCxqCw93KMLZa0v+EYHdEI3n5UKFmUcEEZ9orl5N7fZmF14EB685/2cfvrpKbhaddowGn/Gmb0RCgUu8ES3Fr648EI+hpQIwOrlBkAaHoNwkwQoWBiDYXkQMrss+TfdvoKBVuUqIl5uPiccGJhH4NT6zmUR9wl4CcY1JktRkj9yyzjQB0I6XJvg5mb8mEfUNRQIWFESaNE5RjCATR8UGQtMmMDjM3QAQ4mGzgQhr596pv4xbKZ3prnv8oq4td77TolmfP/6r/+aBDM/T5/40DgZEso7W0CfgQ0uwFqy8W7EHsQ4eJoMBU+j21ZceA2YBbEsgyFyG40IFgGRNPcyEfP3q7x6HuKMXmjvhIH2de0NxiowUADcw709H9OMd79EwAojusbrA/7hKFvI0nSgJHkXrGhn66RD/pzixBOuko3BYPnHwwEhxQdw4Dv4sCQvGotn8youiPEXLjqvUzBMlB+Oum3d/3ICPY5FpPwz9xCszra3/nO/E/lO/m43r/t6/r7ud9Pn6N/srY86mHUy/Y/+bl1/7w0H7tXFi1xxMSBr6aZGT37yk5NLTmlU7bOs8LK0w/dY224JMeIZHVa72+c09bt7OVeGXwAH6RnxOU2UUy2Dp3uwkEgXS+OEez7qvosSuOy+965/yYqbEglIcpXFXJwYaJms1PJTNeGdHbf69cQtZvHfrKFZYeC2WLrmuuql2Abv3B12b4rHe5RIM+oa/RP9YcRB/KeCtU3jg7GQQAkcDG+NR7qs2RFGBqorw4mOpNvv2XvNiqgkog2uj8su10c+KLAne9fqbbE62D1xi25hbPp34j0srVUVlt0qixhMnst3uvHdwlZJeG22xriEN2wbCbecfUOY+/1bu4Xl7t8Nx8J2G39+R6xbVF9Vyrs7K/Am7hSO/xianrDu/FvC9rXVS7YM746lda/YFAZjOZxp3whvLyzsEd7bvn5z2Hp1xEEBy7tr7fawM/6bSc2yl6VRS2Tm0+a4YkAlAqGdeKgkvCORwXaOxCM/Yp2pnh09Yce3rk8M3NlBt+9pW/8UdZveLbpHkbl2RFgJ745LdoSeSwpwbRx0DKEkHEzv8ccZTiy2PjC4O+Jgz+rCmotuDj0XlcEB72umWF6BKYkv1orlUAuUScPMKxyl6di98EZXQJmWOT2xOkVpqOLz4hkJ8f+qNu85LaFnVh29VAQ88We0OtHmxL1BFR/2mz+POT7xwz3jjjU+YhmKMgLxmz1V+yS5zdHyxlXsag8a89fwCwex0kh/5LXFkS8i702nxgUWmJIMIwlEZpv0TimvIvpVA1PjjbV74Y2u0twjF4XDT1oeT0yonoc7HoCEdvFDloXZy8qs+43XT7ef9y6YFQ45+fBw4F1C1u1z9vW7bSPxOM9FG+LXdu/rq43fn7U4nmTwhwdHFVbj6kEUWBVKF/5+rAJSYzeTRV4OTMkhl9FnzVwGnaopdawVd8LXtfD29MWEguMPDL97bFyrrTMyHInWG/uatThq9emlcBM8sw7uC0e96rhwxOJ6UukysTbcfEe46UvxWNNbCfD0an2Hzgv3f82Dw2ExVlFnE2PpXRhjLHOmj/RKMpKdpaCENWqJJjILc2CqTnx0L7yEal50lWrK/6xz0CWfreRt30Fzo1WYX/Kxv/GsWTu2hd1xmjIdm4PgZu9XZvvedBzfeDAR3FxIQEUSmWSys0oHpsbrf1LCy693Pq5LUnVdvvx4wPrctjHJ5uoSTUWzC+mayy4Ow+vjHHfetWH73Dnh4x9aG/abXy/zXrd+S+j9yQ0h3LktbpC9M1yzLfb70eGwZArO55XmJyBjOQQDl84BnghdFVgQ0bXdknvadDNuGVI21difbLOHtNMqGVOTHcOkhNd6Fa1ikdlEvElA88AQSvql/OCpaPKE++dGKxvrKoc5cV9yzMFdvGRpWBaP+qyzLdwdw2JzF4Zdc6LSGNgR5szV75KwbGn1IveThRsPWALRpKHWtftmb3BJN8SHY6XB7u13pe5JwNC3DQ4iytJAS6dV7gvWSQkv4OTriqTZ1teUe9A5CHMJ/T7zmc/s/Lix9zJmfnzjHeHSWVGIFh0W5sa57p/Evbr3X1qv23zgDevD/3f7D2Nd0jjn3XRLuP8D54c/jal2hxzY/Nm0qpJQ3LKGrGFOheWz1VJUV7rh6NzpJpiB1yEvHA4osqYF1xgnJbwsL6LRtAg2FcJL23LTpoJhIMzYZ82JLvJslrc/Wt7+RLyFC6tXe/T88Vr//Lhpuy8GxfQ9J26tjNf8+QumBA+mT5kOGHcqaIEOFPlU9U9Y8eFUCG3mkekZAcnQta8tBloMjIuBVnjHRU17o8XA9MZAK7zTmz4tdC0GxsVAK7zjoqa90WJgemOgFd7pTZ8WuhYD42KgFd5xUdPeaDEwvTEwqaWiyQ5F0rbLEpNrdNvX/dHfn+zfnq/tC4b83LFgzPe6fc1j9Pux8JDvj3Wv2z47f7cvHOT+x4Ov81ndvp9oHxnWOukwFp5zv53jqwOGzueXeF+L8EKGDBTlPJXbtDZsQdvanHUx96WXqdiXy8RaryuZbqmsqYV0MNhnmdemrc0hjM/0DT7rlu67ShHNGD3fGMFhbHCgIJr3GUfu5xRDGTvWLkutHRqjXS42hxujsec+jBOOFP52gSevmZZMqocD/YNDn9aE9YMnOnENPmmXYEIHMHTe75bZ4QAvSqYACxwoyqcPePYZ+niFAw1svuN1Orfi0EEAgZD77NgKzAlhio0rBWJjMkIqfK0gN8Iee+yx4YQTTkjFyUsgCwxqBCtkrk4vwkgYV+bTESsIJ0vIpmn3CY+9l+6VYlzM6AgPu030JaEFDhw1qXI/hrkgVhOUq014CLZ6xe5LPS0hwPJu1U/SB5xjSIe9KYtLgOSoK4xmVwyhkT2X8VCifzjQh4L3Nql7pnRCW+bgIuOagMmWUoSfoIFPydoSwoP/jFFRfcoBDvJeW+OVZolGtvTlJmPLCY/qfk/nVovwQpL0NcyLaTGRk+AIiSRuAuPQZ4RFUAyGmZ1jQ9CrNsxAeBGNctBvJiCCYRzMcs455yQBxmTgUIw8M1RVGDxT4ryzilgbAkyZYBa1jI3Xxm3MxRqr36veEdjVLiZcVRu8Y1rC6bkKv4OBcsDA8E+BgsWFiSlVR5JIsq8qwHBAKCgp40ELY7ZpXU1rJxNQtJQXHnAkCeEiNMuXLy8ivPBuXPrEiyo5GjPYbN+DIydn4Ml8fpFXhma6t+LCy9WROpePDSGMNP/b3/72xMi0LoZyzIQtVDTsxz72sURUyHQEZdWWNfwZZ5yRhBEBHXRl+1Y+9gKTnHjiickKE2waH4OXaqwGK9Z5Fo9zgOHCmUE8gWc961mJqQm30yPslFLXN1vGqrDwcuQes6oUGAX6qU99Ku2GsVnc8TOKwlNYqvc720n/GNzGj6rCa3pAURJUngVBdpCZPpxWSJGCzYkFTkmk2PTZ6cJWxYFpAoPhuWhCkSh6bkcQASXEcGMPLn4BM8Xlmu6tFuHllipxSdvR+uYbhJhGQxhEJOQ0PFcRk/kMA5UQXs+mvQkoGFhh/WJIxERIfSrFqVEmpRtGccQGBlVFEA4yXGDgmtmN4jNWD7N4T/F5LdH0gRaEEbOa/9v9Aib0oFjghEJjlQkSvLDMJWCAA30QXEfJ6F/DB+DS0JxlJLh4xt957pm+UPF/xmI6xG1HB9afFwDfOTef0gab42Dgxmka+V7F7mv9eXHhBS3CGzxX8NOf/nQiHGFi6QgORGEeh4FBpvkYBvZaqtGgnue0Qifl6ccOFIwDBvcRERz+Lt3gAPMS2ne/+91JibGwKuVjKPdcLD6XjVVUYdCcNzN2VZiMi2VhbZxIiHm55JQm+rjPK3FujnNyTXdOO+20Ytvb4ACe7YFmcfGDMVNacMDimV5lbwNfwBfhLSXAxggOUzinFVLkjhnJ9ZPhgTKlwJSxoeR5hbwFXiH4p2srz7UdI6XFWVZIoP0RCcFoeNrOfA/zYOA6GsFcHudOti8SCBbWMZL6b6rpF7MIypnb5QCV/sGxKm4qf9/73pdcR24bK8H6lmqEhfUznzfHNKfl5RBqzXyba5vPDTbvZqVKTiH04cwgdYsFM8EAF/rhwuIJ/eMD9wkwZV5SgBmPjAPj54noj3ci1uJMXmcaCSY6rVDAlTKbzq0Wy5s1JysDYVymv/qrv0oantZlgTCu6gOin9mlKxUsgnAw0O6srT7Nec05MSdmpVEznKNfaeqqzTMJAIF5/etfnzT+2972tjTv54GwsvYGiwUQaAdrO/SZsJfoH/z6JzjiD8q0mCaccsopSWAIi3k35j311FOTRTYfNu8W9fVZVQ8g44DgOH3QeN/xjnck4TBWioWVUxmF90GZE9qPfvSjCW/grsoTYNAPXqREWeC3vvWtaSVE/IWwOvRLozjOPPPM8Dd/8zdpGkF48WpdLfNdt88vLrwYRgQPQTAh5Itq0rTcVMgQHBBdVEqF1uXKmOtiphINDLQrZuESIQK3iLVBSI3FB5eLe21ubM7DUoOjqivNTceQlBQB4nnAi4ZoPIB3vetdKfK5cuXKZB0pMcJUqkC38bvgHU4oUa9wwD30N5jEBtAHjrSMo/RHhf8RRH3APxyI8JvbanjD/FswyefgcVYzuokVlKCBfjwbHcy79SkGY6yUt7/RnaVHb/BaHeCxmV5VVRz6H6uhv77yYeL+7qbVJrxf+MIXEqLMKSBHM9/CnNZbudACFbQ8oWKNuNklGgY1n/7whz+c5naej4gIwo0Hk/nfe9/73vQ9Gl91e3OzfCQlAlZpiMMlFOGmsAgzQWFNBEUIFWH1Pd/JQkaQWSVKp2oTxRVBzu4fRjXfZXGMjxciHgAfXEgKxhISb6mEAOuXkjafhgNKkqtsTZ/gEtAXvehFyeKhwdlnn323Z0LBl5hvMgwf+MAHknLwPP0TVHwgaGXZyKHj+mdIKA/eoIvCKd3wprk9JWHZTp/dtuLCS5tBCgbAFAjIkmAaoXnRTZrV/M68AkEtWVg+qeqmZSQgDktuqUb0EsK4TM6rtUSCMTETRvU998HNApWqRWQsGIBF4Y4RWGPkoumToDw1ls/hzunbRaDcKyE4cOFZFCXFgEmWR68CTHnqIhbhb0oLDrwXMCM4JWAwd4dvSovyQpeVUTnpHz7gKNMczxBq83O0Qh84qdrQ09IbD4sS5ybjP3RAbzgSXeZ18JL0Tbn5rAQOOuHXP1xbmjRdMK3D/92Os7jw0m4sqAwV1hTT+IwlockQkDuCUAQcc3NpuHbdDqITQd7rQ3CEpWXZMCYmQSx96weTCFQgWG5+R4BKEE1fhNVckwLLOACH9wTpzDi/QtDcwAW+UgErQmgdF4Pox9jQIeMA/inObJnRh9C4X6J53vHHH5+CUfowPs93jcaxMfsuZaZ/OCrRxBwYCq4yHHg22qADehNSAgxH3NdO+Erxo3Hom8LmjVFkFAScsMDdtuLCCxCIJ4yusRqkIFYpJh2rD0RysfRjNYzsqqthDMzrGqvxSlx1Ns8nrOO54E3gYKJ0hq86+IGSYBxcY7V98clYv5nsZzwvU6Q8RaTUGRdz/CoKohbhnezg2u+3GPhtxQDPL6fJUqJceK47pVG1tcJbFYPt71sMjIEBUzXusSQUG3TEfEyhzPV5RN1GmDu7aoW3Exvt+xYDBTBAcC1FimQLyuYgYalgaAaxFd6Mifa1xUABDBBca9l2TwlG2Xwjul4yIJvBbIU3Y6J9bTFQEQNWTizL2SFlfdlqgsCUQFyVwNR4YLXCOx5m2s9bDEwQA6ytpSYRZRbXMtQLXvCCsGLFitoEF2it8E6QQO3XWgyMhQF5ArKzZPTZ+GJeaw1XYlKdS5FgmbTwipIB2KKztbmmGy3n6kyuaBIGfY+MxE378lHj68hdsNQNz8jwUOhJ/ca+74JBn3X3OxZu9dlJh6mCIfPiVPWvX/NbqbXSbyV8SDSRpDQ6CWUsPFb9bFLCC1ncAwnVTgFvAsDRA5RqJ5InB3UqmvzgbZvintPtsfdZ88Jwz9ywOs5zRjbv2VxeF0zr1sQUxo23h7B1Yzyfd1PYttmGjrjZYlfz29bk5qIDi5Nzsusa93jPJSz6l9ZoLbXpJjvKvNb2RvNaGYOiytZymzJqkxJe2hbSpHlJei+VwjYZxNuJhGDSzKai0bRrrr82jKyLaZXzbg074+Ha3/jarrB/3Ydrr9sa+q9bFQY3bA09OzaGW4Zjv3Hf6dIpOlz751f8PPxizRXhh+t/HGb3TYqNipBt49qN4fbrbg23fDjWpppXb6baWAAPDcTKm6s3h6OXHZ0E1z5sqZV1BKbG6t9nk8I6wFhcuaD2xE6F5c2L28LvU9Eor0tW3R7iVoIQFhwY+hb2h+Mf87hw0KJyG+jHGteSNZvCB26L6ZxzNoeRrbeFA4+YGx4dXbQD9hs7/XOsZ5T6TJ7w+q3rwn+t+WK4ZuS66M5X30AwWdjibukwEt3Wm0dWx+lL8/3HTsPS/iXhj1Y8LlnepgUXviYlvNwBucLchIc/7OFhzqzZYXiXom3d7UecKMF6ZkXizInlTHp7kqtiiyEXZSoad32/g38SerbHcS8+PMxZNC88+IEPDfdfMnYOcykYt81fHxYcvClsGYr7YSM+9jt4QdoVdehBZbZRTgZO05afXv3TMHxFpPvBEQ99MfYxFDcSjNQcA/H43ting80H47Um1t8+OH64sEHhTbGO6HXZyRdf+qPylurYpMXNtJqU8OYfpdfhWFj95q1h00W3hZFBAlxTi4zaf1DcEfToGATYf0/BdIiaCmTdM8LMLJF5tsSgxRdvDHNr3OSg360bt4T97tgVtvgjjn9Pmxo8JNxnECIgc3b1h4euOSI8YMt+/JFaWhTVMDy3J2w+OtbdOnJW2LJ7c9h0w63hwPuvCLMXV88TnijQ1+24I2y8/epIRMoprAAAHtFJREFUg4F4TfRX9Xyva+EdGYg1qH5wW7jslReFwe33bGsrDWZviJUe//DgcOwHHxNm71ffLqCu4GYAbtsdrnzVj8Parh4w8R/dGBll2crecOMRE/9NU988fPPC8NQLHx2OvfrY2ro0TZm7cF64/1/+TjjoiceEy664PHxx9bnhb076m7B/LPDQVPv+6u+F07/x6hB2bWqqy3H76Vp4LZWM7BoKu0ZiQblwj/CmueC43U38Rnx6+nKs85iUQ63WfeJg3fubCcR4rEn8t7tj6lACB3tGv+f/Oh2KSiwMItcUq/t7YyD91RvnnLOHYzXMsCdwVGL8Y3QT+qKFX7xzSThg/oFhWf+ysGDOwvT+gAUHjPX1Wj5b0r80uu7TgwbdCy/U3MW8BI2FXDg3nu9yUPXI38jueL7Mhp1h566d8cnRJR8qVwq0DopCQ8bB/GULQt/i6h7CSBzzwPpdYfvOWExAcCb+89+0bBEu7JyFduG8uKH/gBjAK8DjgxvjWUKbtkXlFde5h3tC71Asnt4zO8zqnRVlKL7vjUojXk212T2KBBQYWAGAi4169oI5YfmpDwyL/qh6pfmhTQPhti/fFFZfGJdGOqx6gfHW+ohZ0Us49EkrwgFPOqxyP8NxKnLnt28NN5x/bdi1fWfl5zX5gMOfuiLsDwcFLNT2yzeG6959RYjHoTU5hBnRVzHhnbVgVtjv6QeFZX9y/8oDH7xjZ9hx/ZZw64U3zzjhXfKI+4UD/2xFZRwMbYmO+O7BMOtH14fQfA5CJfiXrDwgHHD68tAzq3r0ecsRt4Wb3n1NJXh+W39cTHhFQHv6oiszr3rtod65sSzn7OqEnwqi9cQlrRI4GBmIOOjfU550KsZRpc/euHTUOy8e4WmJr2KDg7aNjYGZKSFjj6X9tMXAfQoD5SzvOGhTfEut3Fz+VEE2WVJKhMiLzZ/bjVGirs9YYOQkevekdHauEeckewkodaZ7jtUPuOwBtclDtpryKHXkxcI3PEsr1YdSLHAtP1eOsgssyq+6N17RvLFwO5nPxsJB/j0YweAVDurAg0qm8vL1oX64DfJwgD9z9Ujw2A2US9Nm+Kbja63Ci1i2SiluDjmO/XBmjQwpBy47BMznUi1f/OIXp5q5pYlGOFTJV7lfdpjMLMSR4idbCkNTJLLG7ArB3KWbvhRWl0ivHyVpCaz9n4qTqeWLmdSRhovSwgPH6ii9//3vT1vV3vCGNyRBdfTH5z//+XS6BVqpsKhkr1MM4KFTyVXFCRwYr40dcLB8+fK7lTVhwhOqKSr+jkeUbC2pTI3P850LZfOA/bZK30p3dQwOPs3pvujjyBOF4qZzq1V4JfE7uFhlAU11fJpOUa7PfvazSbtCpA3MLAHGlSNasiGOM3icwid5HOMQXkzk9D6lShD2rLPOCitWrCguvJQHxnjzm9+cdr84s4mggsupdY7WJCQUiBMEXv3qV6dtZdEGF0GDsenD6RHOAHbgmb4oMrQgpATJZ3bIEDDb2uSvlxIeigoOHJ5NgIzRWLOnBQ7KxVlOaPOa17wmbasr1T+LbieUkwrhgFDm410pDQqUEndyoFZHCdoixBz1kNqElwZ1nAbt7qAp7opGA0OW/FiM7MCrt7zlLcky2a1EgEs02txWMUXAHCvBNdK3zzUCg2l97oyiXJy9RN/5GfpyYoOjXxyvwqJiVMyEcZUBdcA2d5Vy+fjHP54UGQu8dM6i/JhKrxToBfGIT9vX9JOtqf6dKKEv8PBCWCVCxBMoZfngAAxoQHA9mwuvT41y0TdPjHekX7yT6VRp8Hf9GG3hwL5bxmK0d8Xi4kPeH1caDBTsdG9l1PuoUSIITcui0nKq4OeGcBhaqRBWyd8YCYFdpVq2eBQIgtkgzSXPTME14gk8/elPT/dL9dv5HNo+KzCCki0Ni4JBCK7dUcqCsvo+LzltgFvC6BRCR82Yx+Xne6VMCLNzc22xJETO8IGbUlaPsnIulT4oS0d8ZBrAFcsHRw6mczQKHHXe78RnN+/Nc3kTTh6EA8ahU3iNHy4oDsrzM5/5TIK1cw7cTb9N/Ka48NKoCOJwKcxjjul4CZ8jpM9oQggj4Cwjl42wuUo0xBeEoTxYWxYun5yQGYN7hpFo2lKM2gk7V5HQsCjcMWcG6TP3j0n1jZEwLgamYCi6Um6b514QLQ4hdQYPC0OxogP4MC5amI+jgzk5pZLnfp3j6ea9PsCAF1gyigEseAEeCBahZhHhqFN4M5666bfzNzw+h4cbs4PuTMvgAB/iNzQAlykVfrj44ovTFAPtSvFjJzwl3xcXXoixUR8SWFLuIq3GFWIFRJiz68Yqc1cgkDDnz6sOEAyQjym47PYgYxiMyuq7r69S/Y0FL0FwSLOpgMCIPjGz6QJlBR6fYW5zcoqMJS55uDY3VV0ldBBnMEWgWJ3cBw8apaY86Utf+tJ0ABchZqnAVrVRnJSHsTkTifKCA64zrwQ8pgtwJUgFJwQajGhVQoDxIpdd33AB3/qlsEwlKMznP//5KUAl7sE6g9d0DwzTuRWf8yIA5kQkJ7OtWrXqbmI4HS0HpWjCvKmf5RPpLBWsAgOFwV1DIIpBQILW/8hHPhL++Z//edyza0oRS0AKA4BDsIgAgeW8885Lp/AJmGBaQStKhuCKgLJQ4JXLW7VhPn3oW5xBkI5AoIOglL5YeQqUIvU9gk3xmQt3upfdwEIIKQPCABYX5X3uueemaYKpAqUCLnCykgTbQehOMHRiYdXGwuI1z9cPZUox6XflypXJ0+DO40Hfc4Kg+xQPHq6z4dMqCqq48HK5uGh///d/n7QrDWs+5QzU5z73uYlpMCeiOhsW47LO3GsV90o0z0f8Jz/5yYkoXGhMwX3Pc1+MhLlYQl4BhYN5WWOeQFWr7Bnmsyx/tvLgYOnc07foK5fSUZ/O7fU9cJRSYieeeGI6DZH7x9q8/e1vT5aNpRHtpUgoOHNhczyRWI3rDIdVm7gGulICGJUCZfEFzsQhXGo/ZYFCB3Rx329LNP3DMxx4trmv/ihPkXerDZQVviW8+JSVtmxYCoaxxkGZiO5T8t0KcHHhpcEycRAMkFwXLhwNLxiCmJYvrPPSygTNgdLmHCUaGJwLY1lIo2VZOO6zdUxEMdd65zvfGdTEYg0c7EyJYGzChIBVGiXxkniEKKHAFASFAmFNuIjWnk0jMLR5MSEi1ITYsZyLeqtX5iCUrCvmYNV4PSyR/gkO2OCGgsXcrLDxs8pVrS7cwTe6CgoSHMqBEqFUCBV6W3EAEyVq+dDxIOamYC0x9zZ+wUI4YE0ZDXgmnOADF29DsA4OjBsO/KZU7KGTj8BBeVhfR//OFYDO703kfXHh1SnhcWk0uNPmWSEI47o6G1dYHiNDqHNkXSUYRp8sGMbIygBRnvKUpySLpm+wIQxFQkgFS/yGVWSdva/aKIisuTGnuSxhEbjSD4FR31ekWX8uMGGohLsC2/866cDSvulNb0pMnLOHcn3hnGHF4nKfwVcCB4JyMudcrCpF7souO14wXcqC5cBr46fkS9GhEwf4i0I1rzZW98Qj8AkFzl32OZqAOdGhKiPc9XtjhANKmyLHE476NK3qttUivJ3AEA4C48oNUsx3fGZQ/i7hpuXnj35dHuc0loUwJIbRWPvXvva194oo0vTul1IiGQ44EEUWTSXQ/mZZZPFQLHCQBdj9BOO26nPe3L9XzzSd6WyUl6lKDk6hQUmG7ewLTilJCpyS6rRqxs4asshWBuCghNXt7N97zxQ462yUGkGlVDXfKaG4OvtAX9MhgUDeJmXxzGc+M8VAKI1uW+3COx5gEFQHgcbqj7C4OhsGcTXRjJXwJKG8q0NCMhqmTlhKBKw6nzfeewJbp+LM/epjbzh3v9RcP/c50dc6cUBwxTdEul28Hl4gd57HU6VNmfBWAbr9bYuBmYABHo2AlLktd1kE35SB5S2hMKsJb9yv2RvLgsyK9Vl6Y9nP4Z2DYShW8q/ahrYMhOHdQ3tKv1R9WO2/74njV2kr4gImdsX121I42DYYj1MpMPmtGwexYkYPlzv+0zIOSuznVVEklQCqewyFn29ezSW2msLyCtCZNoknEFwWuWqrJrwxrhOdrlhhKV6bhsKt/7EqbLl4Q1WY4qkAg+GO/7011W6q/LAGHkBsexKLjYQN314dhu6sXrZmaOtQ2Px/G8Lg5nrXGougJ/KBqQE8aLd/6Oaw6/qdcTN+9adv/8GWWNyvukGoDsnEnyAYtSrmN1gGJKQCs+bagnAlLG6GpJrwxiJpQyPR2sZiNcOxkuQNF10Tei+tvj4YHxmGosZNRcciS0zvFnEQx89PiDY33PyjG8LqS2+sDPJIjFcN74xPHpoBwhu9A8uC8KDdfPmqsOaGGIgpQLrhzcMzphQSQWVxr7zyyvCNb3wjzeGtJwvMim+UDoRVE95o+bk0+d/uwaghN1fm23s9gD6f7o0DdDcOdkYcVDe8033I94YvIWAPBtxQCncgTn1KtpnAB+a41qklH4leSxKyjltXBL974Y1+++wlfWHJ7KVhqLc+68AVm3dozH2e3z2oJZnoXs+iV2L50YW9C0MMQdzrVuk/1vdE277INrqyS0hF4OzvDX3z5obFvYsjFurDw9z954W+o6MFi3Ps6dRYXGv4hFbGlqQUS4N5flsXrF1LRM+cmAhx0mHhD777xOjfVZ98jzvAOJeatWh26DssbtKfXjRLIM85oj88/H9XhsPn13vQWM/tm8Lab14aPZvCrs24iJ/EjUP7w0H/cmz4g4OeGM+vKl+JJEPSEwvb9R04LyjyNx2amJN1ellyUiwFqGSUyWArFVHe2zgnLby0DPdgMB723Le0L8yNYe8mGvUgUVzfqf+ak8bHG5O+HXQdJ3nRV46vfSOh70GLw9xYbL3O1nN9rOP8wxgB2hj7jX071Bs+6k6eH2tM+hweMv54FziEacXc0PfAJaF/1r3X08f6fdXPBiPe0cE8u2kc6NchAK6hgcFw8003p/mtJBTzW0ko1qtLz2/HwtmkhBey5OfKB5av21SSRSfg8o/tzuGeTEWTI3zH2niY9oZIwF27w8D2/nDZJXH3Us1HfP5yzcbQszoecLUuWt54xOf61XPDTy+NW9ym6IjPVdevijvpIw5uiWl/23eE6xbHbaB3XhwPc6zP8nbSW/UTtJD4wMo11a687Vch3Bjn81tjcOrW3eHG4ZvCw4/8vbStUkS5M3OsbpgmJbysrkRuSKNppkJ47UqRH2tf5lQ0WTHbNm8KI9sj447EI06H+8It0V3aGY96rLPdftvm0LNpvTpCsQj7pghDPJk9umvbt6ZzA+vs+jeebX63ccOdIeyItzZGjygGqNavWR9uGrmpMeGV/CDlkMsqT7ypdtu6uA96Q3Q3dsTchp09YcUxK8LJJ5+cXOWm5WFSwmuNym4ZPr0F59I5wBMhAAXCJYGwqWiY5cJr1+wJyyw6NJ5LNC+sfMJJ4bCl1XcB7W08S2+8Iwytjn30x3X0zavDIUfFfk84MRx8YPO1lgjLbVtjTbI1EeIHxIDigfGs4OMfFp509JNC36y+vQ2j2D3phWhhS6H3TbW5N8fxbY/Xlp7Qd+vccPiKw9P2yroiynsb16SEl9DYKWIniEjaVAiv+YQcWf1PRcO4/XOjEPVF7ds/P/T2zwuLo9u2rOY574I7Y9maeIBX6N8V+47zywjDkqVLpgQP+GD+/DjHnx0jiDE9fNb8WWHB4gVh6bKljcx50V3CAz7gMjfJC4vicaZhfhz3QFwH6Y/5+XP2bKqBk6bbpIQXcIBkgWmaqdA2+s79N40s/enb8lDoiW6z14Zw0dMbg1Wp38gk8XUPHaaGBuielmvwqyuhoVmeQAc4aJoPE/0tVbmMfQpbRHvbWgy0GJiJGGiFdyZSrYW5xUDEQCu8LRu0GJihGGiFd4YSrgW7xUArvC0PtBiYoRhohXeGEq4Fu8XApJeKJoqynHva+f3OJR6plpK6vdaRreW5LkkdueWlBa+5ZTg7Ycv3qr7mZ3c+Rz8uMIDN/k/fs+RhDb0Tts7fdfPe8z27EweeIxMo9yM3GB3y56XX7vU9Ov+6Ewep4/g/38v0yvfzvSqv+bme3dngWz8T5ZPO306X97UIL4SoQ2xTMubRbEZWwydXpFevWV6qVDuVFNXJLZUpg2DSGOU/52M9wGBh/2lPe1pKHJdaJ0dbbSHMC7bSWWPG35mDDQdqSSttiqGNX6628rcSX3zu3BzJB1m4wN1tk1CisPeqVavuFiBMq3a1xAYZSuo22w0DZyop2sqGHiX690yptI54zXxAcXi+SpK54JzvKXgPH3Lm3St12Jl0Xnts1WXWjwa/9tsquq5EjRpTa2Mt5SzgcHPiiSemvbjd4r6J39UmvN/97nfT2bwqJkrW9kqrq88Mkc7ncRwIJlYAHKOdeuqpRbK2EMnmBUdrKviOGLQs5syHTcmNVeQbDBjrhS98YdoRUtLyEJz3vOc9qRYxHGBW41V2VpFx1fkdCaNRYnD2spe9LJVNKZHgbhOJ85IUGod/gmt86jVTZNdcc006K4iCU7oFHhQgd7KC+yUEmIKAA6VdXQSHYOTdN8aub3RwsgE49Z3rKrtfpeEreL7gggvS6RVwICtLfWjCa+yOX2FM8KGm8oWaUzbST+dWi/AaME3Kosk9Vcgb4eRE+4xVhkyV9Aiz6vEOnFKEuoT1Jbw0OOvreWrkYgpCDA7Nd7IQgYcGztYhfaHA/wgoGGzOVsib8HrlHrsUGZejDSZC41QHO1NY3xLCq8i3EwpYdVUdMKd+vRJMAgI3rCF6oYNDuShXjF010T7TAQyKm/OuwLJixYpEDyhm7WwysZHd4V/Or+KJZCtYlQz4DQ14Wk5nwAfokE/ToDgIMEF9znOek5Q8PsmCXLX/On9fm/AiHA3qrB6MwFWCEIhSfJoGJKxcJMLDArGWJYQ3I4y11ScFQYFgDJpfw0BOxsPArHMdDQ4IoVq9hHL58uVpYwehwEBcQ0JEabAQ3pdkXGOCAwLDmuifxcv1lExhKFTzblZYpUN0ALerRPMc1p7XQ3HBg80tlIiW3VrH4YCF0i3Vt+d7Frwas/HjR7zQKZwZR/gE/3n1/eneahNegyeMXCbvCcsb3/jGxEhcREKUj5Kk/TAt7ViiIRaCuBw1qh+uEgt45plnJgtMebh8t66GaTHjBz7wgcSsmNfJDSwuC6BvFobA8DzAyBtxr0QzfmN0QiDh1J+zkF75ylcmxaGPVXE+/MlPfjJVOiRIDoOjaKtaXc/Wn/4pB2fkKspGkTlK0/TFOM1zzYmdLQVeirxk80x0wFtveMMb0nsegON2xBjcN9bMJ+AVFzkz8gnF7v50bbUIrwEjhsFzCblD5l6YxCFaXBnWRqDEHJAwY+KSGpemN4fWD8JxB88555xk6R2pgaB1Ci6CC4K95jWvSXgQmHLUhUPFKDJuG9i4qE5kt7n82c9+djrTqYTLrH8Wl1t+3HHHpb6UIuWesrhcRMLDAjryBEwOfxPA4+6zjhi5asMD3FX0MFYHnot38MbMOyktCg6uHP5G0M3V8QSlX5VG+M+Zu86K8t4h5hQEryefywTvTjFAjy9/+csJJvCpjFFKkVbF41i/r0V4daRWrcgl5Jtb5nNfIQgSCS2CuWhfc04CVaLpk3tEg2pcUtbdSYCsHM1L24IlKw2v+SqhbSkiZwNlF4ywsn6EwxxQX4I5gma0/sqVK5PVw9Al+jdullxwSl/Gz1UXFBNlNwemJHwH44JVgI+ACx6xjCWEl9A6d5iSMLeFf4E8NIF/ip2yoNgoD2foXhDjIfiCa1vVA8BrDg+HA80z0YAiAYO5LgWHXnCEL9/xjnekA8DEa+oUXn26ulVQxYUXMNwv1S4QB2A5GESTcpdpY0jiKtOyXh32JFBQqoFBEAaDgkUfYAODRrOvii4jZkE0QQ3Mk7VxVQHiXRi3cbImrD8Lo39CYdwCRDS9eSjL4LtgLmX14AAM+tM3PBgXi4w2pjXui00QLrCBEwzuV20ZB+DwnrAIoukHHOAS1UUDtDF+l75dPqva9Ie2+M6zKQrPZij0n6drlAQ4wegeoe1WqCYCM1jgWuvWaBUXXhqOZXG6ubmmvxEHA9PmAgKCVNwXjAtJlm24LuZDJZo+rbF+7nOfS0wDSTStoE1ey2UFP/jBDybNj4m51b53yimnJDizkHcLD6Ywl+OiYRI4sebp7F/WiPY3lfDq/ic+8YnkkTgKlbtPwKo2ysgyCGGkoBwnCQfm1RiGhXPcpPfuC9yhgblgVYsHdgrDMpVxahSWqZI5Pz7gZQgaEhqKBc9Yc3WfxwIvVRvaOlCbUBKYVVFhE0qeBmNhDdhcHO3hAM8uj4GtvN5etf+xfk95CNDxcBgLeOimFRdeiCGQmERkGRMTGMEi7gtAIe7MGBDgLkKaIIp5CbeuRAMDd9A8jmvK+opk0vKCRhgTw+YIOBefJeBCcatKaFx9mFdRGhgTQxij+TYvAwEt07C42QpRGO6V6B8e4QAdKE7jJRSY0oVG5rrwQbHom/uIVjyBEsLrGZSBfgguHBj/yjhFME7W0JSKheUJsZLoVPIwLm6zCLd1XHjIR61SkvoHBzpRouC1AiJGIC5QVYGP5mXjBIOovouCMoXj+XTTahFeGs18wbwFsJBAMHxOm3rPCruPYASaJsbEJRrmh5jTTjstaVzPhCD9IqaGqVk48OWGeCxeCcYlHIJ2GIdl4Zbqn0DlIJH+jT8346fAMFWJZmnMvD9bHWPnknuFI0qUYBEcjAVH6KD/EgqE0kRj8Qc4gFfjhwc8oY/cD5iyYIGjBA3g0HjhgIJmefWjf33ANwWO/+CIx+ZzAp1xVIIOnuHZlDgPj9XlfVr7pty65ftahJeWhwCMkFsnoTIR81pb5738/Sqvngf5rjxvGt3H6Pv6853O1/RHl/8zRkzROY/vhIFwE5IMX2e/GY4uu777Z55PgDv76GQUigqzdrZOGDs/7+Y9RT26j/Ge77v4oZMnuulz9G8oEAJCgeTWCcNYfNCJo/ybKq+8LPPub3/722k6x7pTanijSl/FhTcPshNB+bPO133d7/xuN+89X8uvo5+RP8+vo++X+Nuz9/b8fd2vG4ap7n/0+PaGq9Hfnczfextn7jO/Tua5E/kuwTXvNu/3+qxnPSsJLqVStdUmvFUBa3/fYmCmY0CE3dKYgJjgnWCo9WPTphKtFd4SWGyf0WKgAwOmKeIIVjy+973vpamJhA+BMVPKUq0V3lKYbJ/TYiBiQGDKWrLEI0tBBFbg0rw7B+lKIaoV3i4wuWc6vWdOHWfVXTzht+knxn9fx8EeeprfSnqRLSabjIts2UngtqTFzdzTCm/GxCReU73t2TGBoD+ir29WOuF0eLh6NtDeQOCK1dvD3nr/zXsxFBePSoguYHQDe2db9umNB+cNp+s3v13+k+HYF4w02adR6G+sxuIKSMldZ3ktTVkKEm2vKxjWCu9YlJjwZz1h487B8Krzfh4OmFsmCDFe11du2BqGtjjZa3q0PbZ2j9Vdu/PO8NGrzgkX3/bTMLu3GZZa+8vV4fq114Z/+fG/xmNmy6yLTwSzl98ZiycM7LzXVwWmJIF85StfScs/nUd93uuLhf9oBtOFgZ7qx0UjGI/mjbm/A4NhV3z9+iUxxbFQgsl4Y9sdEwxCVBTTpSU/YDjCMxiDM9vvDBfd+P1w8eqy2/n2NtbhG3aH4XU7wxVX3hjCwjLJPXvrL9/bNRiTagb3JPbgg23btqcUUOm2El7Mb81zSywF5T7He52U8HLdaBmRtJzAPd6D6/pcpo4cVP1PRduTxhctIPrt3J6me0M7toXqafwTHA33eWBXzAzrjamnWyIeqq8XTrDnu78mpXX7jmh9BuKod0YOjkIct1/Eq8G2ObqvO4bD7g0RjnjUZrMtjjnW7Nu9bXe4PO6V7tnYkzKmpJ9KBim1FLSvMU1YePntgCI0559/ftrgXSqFbV9Adt63L1bOtD2hU9Ek+W9ec2Po3xKpNxDPy228xeocO7eEjatmhXNjIv+SRWXywSczDAr0mmuvDgdtPzhsiV7kSPX9A5PpPn137qaR0BdlduuqWNCg3OrLhOHojXpr0aa+MD+ejihnXtaUjLoqGVMT7vyuL/ZEaxrVyL6bCTmNqyqD3Sd+VtdEfG/QyE/Vdx3Ru731m+/Bw0B0lQdTgKo5dy33v+c1jj92PSemYE4FDeB/cCiWjB2KCgwKmjZ8kCBu5KI4pqL/KDVz41Grxxx9THjYQx+WcrabpsWEhTeiqG0tBloMTCMMTJXpmEYoaEFpMTAzMdAK78ykWwt1i4H2iM+WB1oMzFQMtJZ3plKuhfs+j4FWeO/zLNAiYKZioBXemUq5Fu77PAZa4b3Ps0CLgJmKgVZ4ZyrlWrjv8xhohfc+zwItAmYqBlrhnamUa+G+z2OgFd77PAu0CJipGGiFd6ZSroX7Po+BVnjv8yzQImCmYqAV3plKuRbu+zwGWuG9z7NAi4CZioH/H1fyrStmvX8PAAAAAElFTkSuQmCC)"
      ],
      "metadata": {
        "id": "7ATXCx6_wBot"
      }
    },
    {
      "cell_type": "code",
      "source": [
        "# Твој ред!"
      ],
      "metadata": {
        "id": "1TRaiRldwBGX"
      },
      "execution_count": null,
      "outputs": []
    },
    {
      "cell_type": "code",
      "source": [
        "# Плави блок:"
      ],
      "metadata": {
        "id": "_jiGG-fuvDgY"
      },
      "execution_count": null,
      "outputs": []
    },
    {
      "cell_type": "code",
      "source": [
        "# Црвени блок:"
      ],
      "metadata": {
        "id": "jqZxi1Jt119t"
      },
      "execution_count": null,
      "outputs": []
    },
    {
      "cell_type": "code",
      "source": [
        "# Зелени блок:"
      ],
      "metadata": {
        "id": "SDSq109R16Y-"
      },
      "execution_count": null,
      "outputs": []
    },
    {
      "cell_type": "code",
      "source": [
        "# Љубичасти блок"
      ],
      "metadata": {
        "id": "poiT0QJD16MH"
      },
      "execution_count": null,
      "outputs": []
    },
    {
      "cell_type": "markdown",
      "source": [
        "## Операције над вишедимензионим низовима"
      ],
      "metadata": {
        "id": "HGMyu7cL6MWQ"
      }
    },
    {
      "cell_type": "markdown",
      "source": [
        "Сада ћемо прећи на операције које је могуће изводити над вишедимензионим низовима."
      ],
      "metadata": {
        "id": "rW-e4Mf0xd42"
      }
    },
    {
      "cell_type": "markdown",
      "metadata": {
        "id": "K8au1Sr2nAnB"
      },
      "source": [
        "Посматрајмо матрице  $A=\\begin{bmatrix}1&3&5\\\\7&9&11\\\\13&15&17\\end{bmatrix}$ и $B=\\begin{bmatrix}2&4&6\\\\8&10&12\\\\14&16&18\\end{bmatrix}$. \\\\"
      ]
    },
    {
      "cell_type": "markdown",
      "source": [
        "Кодови који их креирају су дати ниже."
      ],
      "metadata": {
        "id": "Q_sotihMx0ry"
      }
    },
    {
      "cell_type": "code",
      "execution_count": null,
      "metadata": {
        "id": "CHBl-niLnAnB"
      },
      "outputs": [],
      "source": [
        "A = np.array([\n",
        "    [1, 3, 5],\n",
        "    [7, 9, 11],\n",
        "    [13, 15, 17]\n",
        "])"
      ]
    },
    {
      "cell_type": "code",
      "execution_count": null,
      "metadata": {
        "colab": {
          "base_uri": "https://localhost:8080/"
        },
        "id": "WyDtW5ddnAnB",
        "outputId": "5ca517db-a45f-48c2-e075-a1fe7f5bacfa"
      },
      "outputs": [
        {
          "output_type": "execute_result",
          "data": {
            "text/plain": [
              "array([[ 1,  3,  5],\n",
              "       [ 7,  9, 11],\n",
              "       [13, 15, 17]])"
            ]
          },
          "metadata": {},
          "execution_count": 21
        }
      ],
      "source": [
        "A"
      ]
    },
    {
      "cell_type": "code",
      "execution_count": null,
      "metadata": {
        "id": "MdrqiYsEnAnB"
      },
      "outputs": [],
      "source": [
        "B = np.array([\n",
        "    [2, 4, 6],\n",
        "    [8, 10, 12],\n",
        "    [14, 16, 18]\n",
        "])"
      ]
    },
    {
      "cell_type": "code",
      "execution_count": null,
      "metadata": {
        "colab": {
          "base_uri": "https://localhost:8080/"
        },
        "id": "6X25bLafnAnJ",
        "outputId": "098462c5-a84a-4000-f2fb-60ad90a34191"
      },
      "outputs": [
        {
          "output_type": "execute_result",
          "data": {
            "text/plain": [
              "array([[ 2,  4,  6],\n",
              "       [ 8, 10, 12],\n",
              "       [14, 16, 18]])"
            ]
          },
          "metadata": {},
          "execution_count": 23
        }
      ],
      "source": [
        "B"
      ]
    },
    {
      "cell_type": "markdown",
      "source": [
        "Збир ових вишедимензионих низова тј. матрица се добија коришћењем оператора + или функције `add`."
      ],
      "metadata": {
        "id": "4BwAdprZyR0i"
      }
    },
    {
      "cell_type": "code",
      "execution_count": null,
      "metadata": {
        "colab": {
          "base_uri": "https://localhost:8080/"
        },
        "id": "9Oy_uVd7nAnK",
        "outputId": "720bdd55-0542-45d4-91ef-8edb6ea80e27"
      },
      "outputs": [
        {
          "output_type": "execute_result",
          "data": {
            "text/plain": [
              "array([[ 3,  7, 11],\n",
              "       [15, 19, 23],\n",
              "       [27, 31, 35]])"
            ]
          },
          "metadata": {},
          "execution_count": 24
        }
      ],
      "source": [
        "A + B"
      ]
    },
    {
      "cell_type": "code",
      "source": [
        "np.add(A, B)"
      ],
      "metadata": {
        "colab": {
          "base_uri": "https://localhost:8080/"
        },
        "id": "itl38SQr2NFr",
        "outputId": "47a839d9-ecad-41ea-da79-e26efa096adb"
      },
      "execution_count": null,
      "outputs": [
        {
          "output_type": "execute_result",
          "data": {
            "text/plain": [
              "array([[ 3,  7, 11],\n",
              "       [15, 19, 23],\n",
              "       [27, 31, 35]])"
            ]
          },
          "metadata": {},
          "execution_count": 25
        }
      ]
    },
    {
      "cell_type": "markdown",
      "source": [
        "Разлика вишедимензионих низова се добија коришћењем оператора `-` или функције `subtract`."
      ],
      "metadata": {
        "id": "lPfb7QY2zBxn"
      }
    },
    {
      "cell_type": "code",
      "source": [
        "A - B"
      ],
      "metadata": {
        "colab": {
          "base_uri": "https://localhost:8080/"
        },
        "id": "PKl4GGyNzEbY",
        "outputId": "30013231-db9c-4c04-c65e-cce2afec4ac8"
      },
      "execution_count": null,
      "outputs": [
        {
          "output_type": "execute_result",
          "data": {
            "text/plain": [
              "array([[-1, -1, -1],\n",
              "       [-1, -1, -1],\n",
              "       [-1, -1, -1]])"
            ]
          },
          "metadata": {},
          "execution_count": 26
        }
      ]
    },
    {
      "cell_type": "code",
      "source": [
        "np.subtract(A, B)"
      ],
      "metadata": {
        "colab": {
          "base_uri": "https://localhost:8080/"
        },
        "id": "uhKVEY9H2YQq",
        "outputId": "0f1898ed-2028-4a49-9766-1f086a7d12d1"
      },
      "execution_count": null,
      "outputs": [
        {
          "output_type": "execute_result",
          "data": {
            "text/plain": [
              "array([[-1, -1, -1],\n",
              "       [-1, -1, -1],\n",
              "       [-1, -1, -1]])"
            ]
          },
          "metadata": {},
          "execution_count": 27
        }
      ]
    },
    {
      "cell_type": "markdown",
      "source": [
        "Вишедимензионе низове можемо да множимо скаларима. За то користимо оператор `*`."
      ],
      "metadata": {
        "id": "dDMBrhchzJOM"
      }
    },
    {
      "cell_type": "code",
      "source": [
        "3*A"
      ],
      "metadata": {
        "colab": {
          "base_uri": "https://localhost:8080/"
        },
        "id": "mCmsc-iPzXM1",
        "outputId": "f8342042-2890-4c92-8003-91d2e34e5907"
      },
      "execution_count": null,
      "outputs": [
        {
          "output_type": "execute_result",
          "data": {
            "text/plain": [
              "array([[ 3,  9, 15],\n",
              "       [21, 27, 33],\n",
              "       [39, 45, 51]])"
            ]
          },
          "metadata": {},
          "execution_count": 28
        }
      ]
    },
    {
      "cell_type": "markdown",
      "metadata": {
        "id": "trEgY1tinAnN"
      },
      "source": [
        "Када множимо матрицу са матрицом, користимо функцију `dot`. Приликом множења матрица морамо да водимо рачуна о слагању димензија."
      ]
    },
    {
      "cell_type": "code",
      "execution_count": null,
      "metadata": {
        "colab": {
          "base_uri": "https://localhost:8080/"
        },
        "id": "NKPylzNBnAnO",
        "outputId": "3799a81d-4860-4aee-b81a-f1afb5809be4"
      },
      "outputs": [
        {
          "output_type": "execute_result",
          "data": {
            "text/plain": [
              "array([[ 96, 114, 132],\n",
              "       [240, 294, 348],\n",
              "       [384, 474, 564]])"
            ]
          },
          "metadata": {},
          "execution_count": 29
        }
      ],
      "source": [
        "A.dot(B)"
      ]
    },
    {
      "cell_type": "markdown",
      "metadata": {
        "id": "g6k7474fnAn2"
      },
      "source": [
        "Када се примењују математичке функцију библиотеке NumPy над вишедимензионим низовима, оне се примењују над сваким њеним елементом. Тако се, рецимо, извршавањем следећег кода којим се примењује експоненцијална функција `exp` над елементима матрице `M` добијају следеће вредности:"
      ]
    },
    {
      "cell_type": "code",
      "source": [
        "M"
      ],
      "metadata": {
        "colab": {
          "base_uri": "https://localhost:8080/"
        },
        "id": "CVYXNqi30UgG",
        "outputId": "c0b82f6a-afec-4692-c254-6ff9a1fbd8a7"
      },
      "execution_count": null,
      "outputs": [
        {
          "output_type": "execute_result",
          "data": {
            "text/plain": [
              "array([[1, 2],\n",
              "       [3, 4],\n",
              "       [5, 6]])"
            ]
          },
          "metadata": {},
          "execution_count": 30
        }
      ]
    },
    {
      "cell_type": "code",
      "execution_count": null,
      "metadata": {
        "colab": {
          "base_uri": "https://localhost:8080/"
        },
        "id": "erCtQ4bvnAn2",
        "outputId": "63a3eaef-db47-44e7-bb82-03cad37c03f4"
      },
      "outputs": [
        {
          "output_type": "execute_result",
          "data": {
            "text/plain": [
              "array([[  2.71828183,   7.3890561 ],\n",
              "       [ 20.08553692,  54.59815003],\n",
              "       [148.4131591 , 403.42879349]])"
            ]
          },
          "metadata": {},
          "execution_count": 31
        }
      ],
      "source": [
        "np.exp(M)"
      ]
    },
    {
      "cell_type": "markdown",
      "source": [
        "Постоји и могућност да се функција изврши само дуж неке димензије вишедимензионог низа, на пример, само по колонама или само по врстама. Наравно, то има смисла само за неке функције као што су проналажење максимума, минимума, сабирање или упросечавање.\n",
        "\n",
        "Следећим кодом са прво врши сабирање елемената матрице `M` по врстама. За сабирање елемената матрице користи се функција `sum`."
      ],
      "metadata": {
        "id": "rADWzzZM02J-"
      }
    },
    {
      "cell_type": "code",
      "execution_count": null,
      "metadata": {
        "colab": {
          "base_uri": "https://localhost:8080/"
        },
        "id": "_YkYc0XxnAn3",
        "outputId": "fde97e9c-2b11-4f19-81a5-e94c797d7080"
      },
      "outputs": [
        {
          "output_type": "execute_result",
          "data": {
            "text/plain": [
              "array([ 3,  7, 11])"
            ]
          },
          "metadata": {},
          "execution_count": 32
        }
      ],
      "source": [
        "np.sum(M, axis=1)"
      ]
    },
    {
      "cell_type": "markdown",
      "source": [
        "Следећим кодом се врши сабирање елемената матрице `М` по колонама."
      ],
      "metadata": {
        "id": "tgF9Nsbf1FyC"
      }
    },
    {
      "cell_type": "code",
      "source": [
        "np.sum(M, axis=0)"
      ],
      "metadata": {
        "colab": {
          "base_uri": "https://localhost:8080/"
        },
        "id": "v-JmAE8b1CnB",
        "outputId": "12c92348-6b3b-4015-b4ad-995cdad8f360"
      },
      "execution_count": null,
      "outputs": [
        {
          "output_type": "execute_result",
          "data": {
            "text/plain": [
              "array([ 9, 12])"
            ]
          },
          "metadata": {},
          "execution_count": 91
        }
      ]
    },
    {
      "cell_type": "markdown",
      "source": [
        "Избор одговарајуће димензије у оба случаја нагласили смо коришћењем аргумента `axis`."
      ],
      "metadata": {
        "id": "ATG42uCwwo_J"
      }
    },
    {
      "cell_type": "markdown",
      "source": [
        "## Креирање неких специфичних вишедимензионих низова"
      ],
      "metadata": {
        "id": "LpgIBiDP6pHp"
      }
    },
    {
      "cell_type": "markdown",
      "metadata": {
        "id": "XbvRGVNOnAn3"
      },
      "source": [
        "Следећи блокови кода илуструју коршћење функција које нам омогућавају да брзо креирамо неке специфичне вишедимензионе низове:"
      ]
    },
    {
      "cell_type": "markdown",
      "source": [
        "- матрица са случајним бројевима димензије 2x3"
      ],
      "metadata": {
        "id": "bVX67CDB27TN"
      }
    },
    {
      "cell_type": "code",
      "source": [
        "np.random.random((2, 3))"
      ],
      "metadata": {
        "colab": {
          "base_uri": "https://localhost:8080/"
        },
        "id": "3y0nom-U3CBv",
        "outputId": "7f02d5dd-1f90-41d0-fe1a-9b6e075951c7"
      },
      "execution_count": null,
      "outputs": [
        {
          "output_type": "execute_result",
          "data": {
            "text/plain": [
              "array([[0.75367509, 0.28652712, 0.79622177],\n",
              "       [0.85791168, 0.82178545, 0.11129668]])"
            ]
          },
          "metadata": {},
          "execution_count": 33
        }
      ]
    },
    {
      "cell_type": "markdown",
      "source": [
        "- матрица нула дизмензија 4x4"
      ],
      "metadata": {
        "id": "eSrE5lvm3TjC"
      }
    },
    {
      "cell_type": "code",
      "source": [
        "np.zeros((4, 4))"
      ],
      "metadata": {
        "colab": {
          "base_uri": "https://localhost:8080/"
        },
        "id": "WaK6HnZH3XpL",
        "outputId": "bc58cbb8-e8f4-487f-8ac2-3efe918cc8a7"
      },
      "execution_count": null,
      "outputs": [
        {
          "output_type": "execute_result",
          "data": {
            "text/plain": [
              "array([[0., 0., 0., 0.],\n",
              "       [0., 0., 0., 0.],\n",
              "       [0., 0., 0., 0.],\n",
              "       [0., 0., 0., 0.]])"
            ]
          },
          "metadata": {},
          "execution_count": 34
        }
      ]
    },
    {
      "cell_type": "markdown",
      "source": [
        "- матрица јединица димензија 4x2"
      ],
      "metadata": {
        "id": "MJt-bkvx3hip"
      }
    },
    {
      "cell_type": "code",
      "source": [
        "np.ones((4, 2))"
      ],
      "metadata": {
        "colab": {
          "base_uri": "https://localhost:8080/"
        },
        "id": "L84toYJF3enZ",
        "outputId": "5f3928a6-2441-48b6-a76a-983fa0ed736b"
      },
      "execution_count": null,
      "outputs": [
        {
          "output_type": "execute_result",
          "data": {
            "text/plain": [
              "array([[1., 1.],\n",
              "       [1., 1.],\n",
              "       [1., 1.],\n",
              "       [1., 1.]])"
            ]
          },
          "metadata": {},
          "execution_count": 35
        }
      ]
    },
    {
      "cell_type": "markdown",
      "source": [
        "- један једнодимензиони низ са еквидистантним скупом 9 тачака из интервала од 0 до 2"
      ],
      "metadata": {
        "id": "XEAOa30m3pIW"
      }
    },
    {
      "cell_type": "code",
      "source": [
        "np.linspace(0, 2, 9)"
      ],
      "metadata": {
        "colab": {
          "base_uri": "https://localhost:8080/"
        },
        "id": "x4WNzfLQ3oPJ",
        "outputId": "7b85fcb2-77c4-4d42-9285-fddd41288275"
      },
      "execution_count": null,
      "outputs": [
        {
          "output_type": "execute_result",
          "data": {
            "text/plain": [
              "array([0.  , 0.25, 0.5 , 0.75, 1.  , 1.25, 1.5 , 1.75, 2.  ])"
            ]
          },
          "metadata": {},
          "execution_count": 36
        }
      ]
    },
    {
      "cell_type": "code",
      "execution_count": null,
      "metadata": {
        "id": "qCxH1uEynAn9"
      },
      "outputs": [],
      "source": []
    },
    {
      "cell_type": "markdown",
      "source": [
        "## Задаци за вежбу"
      ],
      "metadata": {
        "id": "Ir4w3xWr68zI"
      }
    },
    {
      "cell_type": "markdown",
      "source": [
        "Ево и неких задатака за вежбу."
      ],
      "metadata": {
        "id": "GMCu-vXp4cfk"
      }
    },
    {
      "cell_type": "markdown",
      "source": [
        "1. Конструиши матрицу која на главној дијагонали има редом бројеве 1, 2, 3 и 4 а на осталим позицијама нуле. Овакве матрице називамо дијагоналним матрицама."
      ],
      "metadata": {
        "id": "DUB2Y-nD4sit"
      }
    },
    {
      "cell_type": "markdown",
      "source": [
        "2. Сада уради исти задатак али бројеве смести на споредну дијагоналу!"
      ],
      "metadata": {
        "id": "Jnt81nwz46yS"
      }
    },
    {
      "cell_type": "markdown",
      "metadata": {
        "id": "yGXrpVrdnAoi"
      },
      "source": [
        "3. Одреди вредност просечног елемента матрице."
      ]
    },
    {
      "cell_type": "markdown",
      "source": [
        "4. Пронађи највећи елемент у свакој врсти."
      ],
      "metadata": {
        "id": "kYnj7NxG5IiN"
      }
    },
    {
      "cell_type": "markdown",
      "source": [
        "5. Пронађи највећи елемент у свакој колони."
      ],
      "metadata": {
        "id": "Vsdy5VA75MXV"
      }
    },
    {
      "cell_type": "markdown",
      "metadata": {
        "id": "9leC0OzfnAo8"
      },
      "source": [
        "Више о садржају и могућностима библиотеке NumPy можеш да пронађеш на званичном сајту http://www.numpy.org/.\n"
      ]
    }
  ],
  "metadata": {
    "kernelspec": {
      "display_name": "Python 3",
      "language": "python",
      "name": "python3"
    },
    "language_info": {
      "codemirror_mode": {
        "name": "ipython",
        "version": 3
      },
      "file_extension": ".py",
      "mimetype": "text/x-python",
      "name": "python",
      "nbconvert_exporter": "python",
      "pygments_lexer": "ipython3",
      "version": "3.7.6"
    },
    "colab": {
      "provenance": [],
      "collapsed_sections": [
        "6SWwCYSI5jNl",
        "CTwWR81M51Qj",
        "HGMyu7cL6MWQ",
        "LpgIBiDP6pHp",
        "Ir4w3xWr68zI"
      ]
    }
  },
  "nbformat": 4,
  "nbformat_minor": 0
}