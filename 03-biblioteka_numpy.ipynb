{
 "cells": [
  {
   "cell_type": "markdown",
   "metadata": {
    "id": "89FPz0iTnAln"
   },
   "source": [
    "# Библиотекa NumPy"
   ]
  },
  {
   "cell_type": "markdown",
   "metadata": {
    "id": "Ncl1pobVOvoQ"
   },
   "source": [
    "[![Open In Colab](https://colab.research.google.com/assets/colab-badge.svg)](https://colab.research.google.com/github/Petlja/specit4_ai_radni/blob/main/03-biblioteka_numpy.ipynb)"
   ]
  },
  {
   "cell_type": "markdown",
   "metadata": {
    "id": "7J-i6LpHnadB"
   },
   "source": [
    "Ова свеска прати лекцију о библиотеци NumPy. У њој можеш да испробаш све функције које су поменуте и изведеш експерименте који су ти занимљиви."
   ]
  },
  {
   "cell_type": "markdown",
   "metadata": {
    "id": "Dm9jIdlWoHVt"
   },
   "source": [
    "Да би могли да користимо библиотеку NumPy, прво морамо да је учитамо."
   ]
  },
  {
   "cell_type": "code",
   "execution_count": null,
   "metadata": {
    "id": "BACZL0VqnAlq"
   },
   "outputs": [],
   "source": [
    "import numpy as np"
   ]
  },
  {
   "cell_type": "markdown",
   "metadata": {
    "id": "6SWwCYSI5jNl"
   },
   "source": [
    "## Вишедимензиони низови"
   ]
  },
  {
   "cell_type": "markdown",
   "metadata": {
    "id": "iLqNxqDFnAls"
   },
   "source": [
    "Основна структура библиотеке NumPy је вишедимензиони низ (енгл. multidimensional array, ndarray). Њу карактеришу облик који указује на димензијe вишедимензионог низа и елементи које садржи. Вишедимензиони низови се креирају позивом функције `array`."
   ]
  },
  {
   "cell_type": "markdown",
   "metadata": {
    "id": "XXfVJkeSnAls"
   },
   "source": [
    "Следећим блоком кода креира се вишедимензиони низ `M` димензија 3x2 тј. која има три врсте и две колоне. Као што смо видели, такве блокове сусрећемо приликом представљања слика али и табеларних података - појединачне колоне означавају атрибуте а врсте инстанце. Вишедимензионе низове који имају две димензије називамо и матрице."
   ]
  },
  {
   "cell_type": "code",
   "execution_count": null,
   "metadata": {
    "id": "wwcAJ8SwqleA"
   },
   "outputs": [],
   "source": [
    "M = np.array([\n",
    "  [1, 2],\n",
    "  [3, 4],\n",
    "  [5, 6]\n",
    "])\n"
   ]
  },
  {
   "cell_type": "code",
   "execution_count": null,
   "metadata": {
    "colab": {
     "base_uri": "https://localhost:8080/"
    },
    "id": "fkIyybDbqvWP",
    "outputId": "2c7716cb-1ec2-4205-a1f1-f6711fd82dcc"
   },
   "outputs": [
    {
     "data": {
      "text/plain": [
       "array([[1, 2],\n",
       "       [3, 4],\n",
       "       [5, 6]])"
      ]
     },
     "execution_count": 4,
     "metadata": {},
     "output_type": "execute_result"
    }
   ],
   "source": [
    "M"
   ]
  },
  {
   "cell_type": "markdown",
   "metadata": {
    "id": "EyZjps08nAls"
   },
   "source": [
    "Информацију о димензијама вишедимензионог низа добијамо помоћу својства `shape`."
   ]
  },
  {
   "cell_type": "code",
   "execution_count": null,
   "metadata": {
    "colab": {
     "base_uri": "https://localhost:8080/"
    },
    "id": "bOFGiRpErPyf",
    "outputId": "a0699599-3fa8-4aa9-e698-e31730e6a3b8"
   },
   "outputs": [
    {
     "data": {
      "text/plain": [
       "(3, 2)"
      ]
     },
     "execution_count": 5,
     "metadata": {},
     "output_type": "execute_result"
    }
   ],
   "source": [
    "M.shape"
   ]
  },
  {
   "cell_type": "markdown",
   "metadata": {
    "id": "LEp4IDgArSbZ"
   },
   "source": [
    "Информацију о типу елемената вишедимензионог низа добијамо помоћу својства `dtype`. Сви елементи вишедимензионог низа морају да буду истог типа."
   ]
  },
  {
   "cell_type": "code",
   "execution_count": null,
   "metadata": {
    "colab": {
     "base_uri": "https://localhost:8080/"
    },
    "id": "ju3VUUdSrfOw",
    "outputId": "bb0905e0-d7b4-4db6-dced-6999262809de"
   },
   "outputs": [
    {
     "data": {
      "text/plain": [
       "dtype('int64')"
      ]
     },
     "execution_count": 6,
     "metadata": {},
     "output_type": "execute_result"
    }
   ],
   "source": [
    "M.dtype"
   ]
  },
  {
   "cell_type": "markdown",
   "metadata": {
    "id": "kzTnFu4tnAlv"
   },
   "source": [
    "Библиотека NumPy подржава подразумеване типове као што су `int_`, `float_`, `bool_` i `complex_`, али нуди и могућност рада са типовима другачијих опсега и прецизности попут `int8`, `int16`, `uint8`, `float32`, `float64`, `complex128`."
   ]
  },
  {
   "cell_type": "markdown",
   "metadata": {
    "id": "l5r_SMAbsdA4"
   },
   "source": [
    "Уколико треба да задамо тип елемената приликом креирања вишедимензионог низа можемо да искористимо додатни аргумент `dtype` функције `array`."
   ]
  },
  {
   "cell_type": "code",
   "execution_count": null,
   "metadata": {
    "id": "2TBvxUGFnAlv"
   },
   "outputs": [],
   "source": [
    "M = np.array([\n",
    "  [1, 2],\n",
    "  [3, 4],\n",
    "  [5, 6]\n",
    "], dtype='int64')\n"
   ]
  },
  {
   "cell_type": "code",
   "execution_count": null,
   "metadata": {
    "colab": {
     "base_uri": "https://localhost:8080/"
    },
    "id": "PzXEsD2QnAlv",
    "outputId": "826c4a12-5915-48f0-a1d0-796f1133973a"
   },
   "outputs": [
    {
     "data": {
      "text/plain": [
       "array([[1, 2],\n",
       "       [3, 4],\n",
       "       [5, 6]])"
      ]
     },
     "execution_count": 8,
     "metadata": {},
     "output_type": "execute_result"
    }
   ],
   "source": [
    "M"
   ]
  },
  {
   "cell_type": "code",
   "execution_count": null,
   "metadata": {
    "id": "FoHZzeXxnAlw"
   },
   "outputs": [],
   "source": []
  },
  {
   "cell_type": "markdown",
   "metadata": {
    "id": "mG1B1YrztJuM"
   },
   "source": [
    "Ево још неких примера креирања вишедимензионих низова:"
   ]
  },
  {
   "cell_type": "markdown",
   "metadata": {
    "id": "Ti8lJ2aAtNAI"
   },
   "source": [
    "- низ једноцифрених бројева"
   ]
  },
  {
   "cell_type": "code",
   "execution_count": null,
   "metadata": {
    "colab": {
     "base_uri": "https://localhost:8080/"
    },
    "id": "vMLf9_G8tSMK",
    "outputId": "522be317-df05-4c5a-cc74-64bb612b6e63"
   },
   "outputs": [
    {
     "data": {
      "text/plain": [
       "array([0, 1, 2, 3, 4, 5, 6, 7, 8, 9])"
      ]
     },
     "execution_count": 9,
     "metadata": {},
     "output_type": "execute_result"
    }
   ],
   "source": [
    "np.array([0, 1, 2, 3, 4, 5, 6, 7, 8, 9])"
   ]
  },
  {
   "cell_type": "markdown",
   "metadata": {
    "id": "dOwCfYL3nAlw"
   },
   "source": [
    "- матрица димензија 1x3 која садржи бројеве 10, 11 и 12"
   ]
  },
  {
   "cell_type": "code",
   "execution_count": null,
   "metadata": {
    "colab": {
     "base_uri": "https://localhost:8080/"
    },
    "id": "W2N3gTgFtZnQ",
    "outputId": "ab364fab-81f5-4730-e173-caa4dd2e9206"
   },
   "outputs": [
    {
     "data": {
      "text/plain": [
       "array([[10, 11, 12]])"
      ]
     },
     "execution_count": 10,
     "metadata": {},
     "output_type": "execute_result"
    }
   ],
   "source": [
    "np.array([\n",
    "    [10, 11, 12]\n",
    "])"
   ]
  },
  {
   "cell_type": "markdown",
   "metadata": {
    "id": "njKaM_2nnAlw"
   },
   "source": [
    "- матрица димензија 3x1 која садржи бројеве 10, 11 и 12"
   ]
  },
  {
   "cell_type": "code",
   "execution_count": null,
   "metadata": {
    "colab": {
     "base_uri": "https://localhost:8080/"
    },
    "id": "tIad_i7Ith55",
    "outputId": "70fdd7e5-4be8-4250-b23a-011049089e24"
   },
   "outputs": [
    {
     "data": {
      "text/plain": [
       "array([[10],\n",
       "       [11],\n",
       "       [12]])"
      ]
     },
     "execution_count": 11,
     "metadata": {},
     "output_type": "execute_result"
    }
   ],
   "source": [
    "np.array([\n",
    "    [10],\n",
    "    [11],\n",
    "    [12]\n",
    "])"
   ]
  },
  {
   "cell_type": "markdown",
   "metadata": {
    "id": "CTwWR81M51Qj"
   },
   "source": [
    "## Приступ елементима вишедимензионих низова"
   ]
  },
  {
   "cell_type": "markdown",
   "metadata": {
    "id": "dkSACuwFujnO"
   },
   "source": [
    "Појединачним елементима низова приступа се коришћењем одговарајућих индекса."
   ]
  },
  {
   "cell_type": "markdown",
   "metadata": {
    "id": "jdSkNLiiurWq"
   },
   "source": [
    "Са `M[0,0]` очитавамо вредност у нултој врсти и нултој колони матрице `M`."
   ]
  },
  {
   "cell_type": "code",
   "execution_count": null,
   "metadata": {
    "colab": {
     "base_uri": "https://localhost:8080/"
    },
    "id": "XHh0pqLbnAnA",
    "outputId": "4d290812-43d3-4b28-8306-2f39c9baf70a"
   },
   "outputs": [
    {
     "data": {
      "text/plain": [
       "1"
      ]
     },
     "execution_count": 12,
     "metadata": {},
     "output_type": "execute_result"
    }
   ],
   "source": [
    "M[0,0]"
   ]
  },
  {
   "cell_type": "markdown",
   "metadata": {
    "id": "3DZRxrIPu4MO"
   },
   "source": [
    "Са `M[2,1]` очитавамо вредност у другој врсти и првој колони матрице `M`."
   ]
  },
  {
   "cell_type": "code",
   "execution_count": null,
   "metadata": {
    "colab": {
     "base_uri": "https://localhost:8080/"
    },
    "id": "EapIG-DXu_nS",
    "outputId": "ea0bba89-84d3-457b-a6f2-050c0207ac34"
   },
   "outputs": [
    {
     "data": {
      "text/plain": [
       "6"
      ]
     },
     "execution_count": 13,
     "metadata": {},
     "output_type": "execute_result"
    }
   ],
   "source": [
    "M[2,1]"
   ]
  },
  {
   "cell_type": "markdown",
   "metadata": {
    "id": "iDjg-aRY57Gj"
   },
   "source": [
    "Уколико приступимо елементу који не постоји, добићемо грешку!"
   ]
  },
  {
   "cell_type": "code",
   "execution_count": null,
   "metadata": {
    "colab": {
     "base_uri": "https://localhost:8080/",
     "height": 176
    },
    "id": "VnTO-rq75-t3",
    "outputId": "d632df55-c8dd-4221-d93a-4b27d995d4da"
   },
   "outputs": [
    {
     "ename": "IndexError",
     "evalue": "ignored",
     "output_type": "error",
     "traceback": [
      "\u001b[0;31m---------------------------------------------------------------------------\u001b[0m",
      "\u001b[0;31mIndexError\u001b[0m                                Traceback (most recent call last)",
      "\u001b[0;32m<ipython-input-14-f82d2a48c6ef>\u001b[0m in \u001b[0;36m<cell line: 1>\u001b[0;34m()\u001b[0m\n\u001b[0;32m----> 1\u001b[0;31m \u001b[0mM\u001b[0m\u001b[0;34m[\u001b[0m\u001b[0;36m2\u001b[0m\u001b[0;34m,\u001b[0m\u001b[0;36m5\u001b[0m\u001b[0;34m]\u001b[0m\u001b[0;34m\u001b[0m\u001b[0;34m\u001b[0m\u001b[0m\n\u001b[0m",
      "\u001b[0;31mIndexError\u001b[0m: index 5 is out of bounds for axis 1 with size 2"
     ]
    }
   ],
   "source": [
    "M[2,5]"
   ]
  },
  {
   "cell_type": "markdown",
   "metadata": {
    "id": "gc6GLJcfvEvl"
   },
   "source": [
    "За приступ елементима у библиотеци NumPy може да се користи оператор исецања `:`. Ево неких примера употребе на матрици `A` која је приказана доњом сликом."
   ]
  },
  {
   "cell_type": "markdown",
   "metadata": {},
   "source": [
    "![Operator isecanja](./aseti/matrica_operator_isecanja.png)"
   ]
  },
  {
   "cell_type": "markdown",
   "metadata": {
    "id": "QnMNqzs2wcxA"
   },
   "source": [
    "Прво ћемо матрицу `A` брзо креирати тако што ћемо направити низ бројева од 0 до 24 (то можемо урадити уз помоћ функције `arange`), а потом променити њен облик на 5x5 (то можемо урадити помоћу функције `reshape`)."
   ]
  },
  {
   "cell_type": "code",
   "execution_count": null,
   "metadata": {
    "id": "is_vvcnowVMw"
   },
   "outputs": [],
   "source": [
    "A = np.arange(0, 25).reshape(5, 5)"
   ]
  },
  {
   "cell_type": "markdown",
   "metadata": {
    "id": "5IUS5QYxw_Gy"
   },
   "source": [
    "Жути блок:"
   ]
  },
  {
   "cell_type": "code",
   "execution_count": null,
   "metadata": {
    "colab": {
     "base_uri": "https://localhost:8080/"
    },
    "id": "vyTPHIgswzU0",
    "outputId": "20104f2e-f089-44c2-a733-0e5a104a9377"
   },
   "outputs": [
    {
     "data": {
      "text/plain": [
       "array([20, 21, 22, 23, 24])"
      ]
     },
     "execution_count": 17,
     "metadata": {},
     "output_type": "execute_result"
    }
   ],
   "source": [
    "A[4, :]"
   ]
  },
  {
   "cell_type": "markdown",
   "metadata": {
    "id": "Ca-7BReUxBqj"
   },
   "source": [
    "Црвени блок:"
   ]
  },
  {
   "cell_type": "code",
   "execution_count": null,
   "metadata": {
    "colab": {
     "base_uri": "https://localhost:8080/"
    },
    "id": "l79dg_kAw6jb",
    "outputId": "ac4e3005-8511-45a8-ab69-00b2f93c6dbf"
   },
   "outputs": [
    {
     "data": {
      "text/plain": [
       "array([[ 1,  3],\n",
       "       [ 6,  8],\n",
       "       [11, 13],\n",
       "       [16, 18],\n",
       "       [21, 23]])"
      ]
     },
     "execution_count": 18,
     "metadata": {},
     "output_type": "execute_result"
    }
   ],
   "source": [
    "A[ :, 1::2]"
   ]
  },
  {
   "cell_type": "markdown",
   "metadata": {
    "id": "FaOsgIohxEFX"
   },
   "source": [
    "Плави блок:"
   ]
  },
  {
   "cell_type": "code",
   "execution_count": null,
   "metadata": {
    "colab": {
     "base_uri": "https://localhost:8080/"
    },
    "id": "VpgX3LKtxGDO",
    "outputId": "cada3513-ce59-4bdb-9dba-1c705edb6ae1"
   },
   "outputs": [
    {
     "data": {
      "text/plain": [
       "array([[ 5,  7],\n",
       "       [15, 17]])"
      ]
     },
     "execution_count": 19,
     "metadata": {},
     "output_type": "execute_result"
    }
   ],
   "source": [
    "A[1::2, 0:3:2]"
   ]
  },
  {
   "cell_type": "markdown",
   "metadata": {
    "id": "NO4EJjQMvEcc"
   },
   "source": [
    "Сада и ти можеш да се опробаш и покушаш да издвојиш елементе матрице који су обележени као на доњој слици: прво плаве, затим црвене, потом зелене и на крају љубичасте."
   ]
  },
  {
   "cell_type": "markdown",
   "metadata": {},
   "source": [
    "![Operator isecanja vezba](./aseti/matrica_operator_isecanja_vezba.png)"
   ]
  },
  {
   "cell_type": "code",
   "execution_count": null,
   "metadata": {
    "id": "1TRaiRldwBGX"
   },
   "outputs": [],
   "source": [
    "# Твој ред!"
   ]
  },
  {
   "cell_type": "code",
   "execution_count": null,
   "metadata": {
    "id": "_jiGG-fuvDgY"
   },
   "outputs": [],
   "source": [
    "# Плави блок:"
   ]
  },
  {
   "cell_type": "code",
   "execution_count": null,
   "metadata": {
    "id": "jqZxi1Jt119t"
   },
   "outputs": [],
   "source": [
    "# Црвени блок:"
   ]
  },
  {
   "cell_type": "code",
   "execution_count": null,
   "metadata": {
    "id": "SDSq109R16Y-"
   },
   "outputs": [],
   "source": [
    "# Зелени блок:"
   ]
  },
  {
   "cell_type": "code",
   "execution_count": null,
   "metadata": {
    "id": "poiT0QJD16MH"
   },
   "outputs": [],
   "source": [
    "# Љубичасти блок"
   ]
  },
  {
   "cell_type": "markdown",
   "metadata": {
    "id": "HGMyu7cL6MWQ"
   },
   "source": [
    "## Операције над вишедимензионим низовима"
   ]
  },
  {
   "cell_type": "markdown",
   "metadata": {
    "id": "rW-e4Mf0xd42"
   },
   "source": [
    "Сада ћемо прећи на операције које је могуће изводити над вишедимензионим низовима."
   ]
  },
  {
   "cell_type": "markdown",
   "metadata": {
    "id": "K8au1Sr2nAnB"
   },
   "source": [
    "Посматрајмо матрице  $A=\\begin{bmatrix}1&3&5\\\\7&9&11\\\\13&15&17\\end{bmatrix}$ и $B=\\begin{bmatrix}2&4&6\\\\8&10&12\\\\14&16&18\\end{bmatrix}$. \\\\"
   ]
  },
  {
   "cell_type": "markdown",
   "metadata": {
    "id": "Q_sotihMx0ry"
   },
   "source": [
    "Кодови који их креирају су дати ниже."
   ]
  },
  {
   "cell_type": "code",
   "execution_count": null,
   "metadata": {
    "id": "CHBl-niLnAnB"
   },
   "outputs": [],
   "source": [
    "A = np.array([\n",
    "    [1, 3, 5],\n",
    "    [7, 9, 11],\n",
    "    [13, 15, 17]\n",
    "])"
   ]
  },
  {
   "cell_type": "code",
   "execution_count": null,
   "metadata": {
    "colab": {
     "base_uri": "https://localhost:8080/"
    },
    "id": "WyDtW5ddnAnB",
    "outputId": "5ca517db-a45f-48c2-e075-a1fe7f5bacfa"
   },
   "outputs": [
    {
     "data": {
      "text/plain": [
       "array([[ 1,  3,  5],\n",
       "       [ 7,  9, 11],\n",
       "       [13, 15, 17]])"
      ]
     },
     "execution_count": 21,
     "metadata": {},
     "output_type": "execute_result"
    }
   ],
   "source": [
    "A"
   ]
  },
  {
   "cell_type": "code",
   "execution_count": null,
   "metadata": {
    "id": "MdrqiYsEnAnB"
   },
   "outputs": [],
   "source": [
    "B = np.array([\n",
    "    [2, 4, 6],\n",
    "    [8, 10, 12],\n",
    "    [14, 16, 18]\n",
    "])"
   ]
  },
  {
   "cell_type": "code",
   "execution_count": null,
   "metadata": {
    "colab": {
     "base_uri": "https://localhost:8080/"
    },
    "id": "6X25bLafnAnJ",
    "outputId": "098462c5-a84a-4000-f2fb-60ad90a34191"
   },
   "outputs": [
    {
     "data": {
      "text/plain": [
       "array([[ 2,  4,  6],\n",
       "       [ 8, 10, 12],\n",
       "       [14, 16, 18]])"
      ]
     },
     "execution_count": 23,
     "metadata": {},
     "output_type": "execute_result"
    }
   ],
   "source": [
    "B"
   ]
  },
  {
   "cell_type": "markdown",
   "metadata": {
    "id": "4BwAdprZyR0i"
   },
   "source": [
    "Збир ових вишедимензионих низова тј. матрица се добија коришћењем оператора + или функције `add`."
   ]
  },
  {
   "cell_type": "code",
   "execution_count": null,
   "metadata": {
    "colab": {
     "base_uri": "https://localhost:8080/"
    },
    "id": "9Oy_uVd7nAnK",
    "outputId": "720bdd55-0542-45d4-91ef-8edb6ea80e27"
   },
   "outputs": [
    {
     "data": {
      "text/plain": [
       "array([[ 3,  7, 11],\n",
       "       [15, 19, 23],\n",
       "       [27, 31, 35]])"
      ]
     },
     "execution_count": 24,
     "metadata": {},
     "output_type": "execute_result"
    }
   ],
   "source": [
    "A + B"
   ]
  },
  {
   "cell_type": "code",
   "execution_count": null,
   "metadata": {
    "colab": {
     "base_uri": "https://localhost:8080/"
    },
    "id": "itl38SQr2NFr",
    "outputId": "47a839d9-ecad-41ea-da79-e26efa096adb"
   },
   "outputs": [
    {
     "data": {
      "text/plain": [
       "array([[ 3,  7, 11],\n",
       "       [15, 19, 23],\n",
       "       [27, 31, 35]])"
      ]
     },
     "execution_count": 25,
     "metadata": {},
     "output_type": "execute_result"
    }
   ],
   "source": [
    "np.add(A, B)"
   ]
  },
  {
   "cell_type": "markdown",
   "metadata": {
    "id": "lPfb7QY2zBxn"
   },
   "source": [
    "Разлика вишедимензионих низова се добија коришћењем оператора `-` или функције `subtract`."
   ]
  },
  {
   "cell_type": "code",
   "execution_count": null,
   "metadata": {
    "colab": {
     "base_uri": "https://localhost:8080/"
    },
    "id": "PKl4GGyNzEbY",
    "outputId": "30013231-db9c-4c04-c65e-cce2afec4ac8"
   },
   "outputs": [
    {
     "data": {
      "text/plain": [
       "array([[-1, -1, -1],\n",
       "       [-1, -1, -1],\n",
       "       [-1, -1, -1]])"
      ]
     },
     "execution_count": 26,
     "metadata": {},
     "output_type": "execute_result"
    }
   ],
   "source": [
    "A - B"
   ]
  },
  {
   "cell_type": "code",
   "execution_count": null,
   "metadata": {
    "colab": {
     "base_uri": "https://localhost:8080/"
    },
    "id": "uhKVEY9H2YQq",
    "outputId": "0f1898ed-2028-4a49-9766-1f086a7d12d1"
   },
   "outputs": [
    {
     "data": {
      "text/plain": [
       "array([[-1, -1, -1],\n",
       "       [-1, -1, -1],\n",
       "       [-1, -1, -1]])"
      ]
     },
     "execution_count": 27,
     "metadata": {},
     "output_type": "execute_result"
    }
   ],
   "source": [
    "np.subtract(A, B)"
   ]
  },
  {
   "cell_type": "markdown",
   "metadata": {
    "id": "dDMBrhchzJOM"
   },
   "source": [
    "Вишедимензионе низове можемо да множимо скаларима. За то користимо оператор `*`."
   ]
  },
  {
   "cell_type": "code",
   "execution_count": null,
   "metadata": {
    "colab": {
     "base_uri": "https://localhost:8080/"
    },
    "id": "mCmsc-iPzXM1",
    "outputId": "f8342042-2890-4c92-8003-91d2e34e5907"
   },
   "outputs": [
    {
     "data": {
      "text/plain": [
       "array([[ 3,  9, 15],\n",
       "       [21, 27, 33],\n",
       "       [39, 45, 51]])"
      ]
     },
     "execution_count": 28,
     "metadata": {},
     "output_type": "execute_result"
    }
   ],
   "source": [
    "3*A"
   ]
  },
  {
   "cell_type": "markdown",
   "metadata": {
    "id": "trEgY1tinAnN"
   },
   "source": [
    "Када множимо матрицу са матрицом, користимо функцију `dot`. Приликом множења матрица морамо да водимо рачуна о слагању димензија."
   ]
  },
  {
   "cell_type": "code",
   "execution_count": null,
   "metadata": {
    "colab": {
     "base_uri": "https://localhost:8080/"
    },
    "id": "NKPylzNBnAnO",
    "outputId": "3799a81d-4860-4aee-b81a-f1afb5809be4"
   },
   "outputs": [
    {
     "data": {
      "text/plain": [
       "array([[ 96, 114, 132],\n",
       "       [240, 294, 348],\n",
       "       [384, 474, 564]])"
      ]
     },
     "execution_count": 29,
     "metadata": {},
     "output_type": "execute_result"
    }
   ],
   "source": [
    "A.dot(B)"
   ]
  },
  {
   "cell_type": "markdown",
   "metadata": {
    "id": "g6k7474fnAn2"
   },
   "source": [
    "Када се примењују математичке функцију библиотеке NumPy над вишедимензионим низовима, оне се примењују над сваким њеним елементом. Тако се, рецимо, извршавањем следећег кода којим се примењује експоненцијална функција `exp` над елементима матрице `M` добијају следеће вредности:"
   ]
  },
  {
   "cell_type": "code",
   "execution_count": null,
   "metadata": {
    "colab": {
     "base_uri": "https://localhost:8080/"
    },
    "id": "CVYXNqi30UgG",
    "outputId": "c0b82f6a-afec-4692-c254-6ff9a1fbd8a7"
   },
   "outputs": [
    {
     "data": {
      "text/plain": [
       "array([[1, 2],\n",
       "       [3, 4],\n",
       "       [5, 6]])"
      ]
     },
     "execution_count": 30,
     "metadata": {},
     "output_type": "execute_result"
    }
   ],
   "source": [
    "M"
   ]
  },
  {
   "cell_type": "code",
   "execution_count": null,
   "metadata": {
    "colab": {
     "base_uri": "https://localhost:8080/"
    },
    "id": "erCtQ4bvnAn2",
    "outputId": "63a3eaef-db47-44e7-bb82-03cad37c03f4"
   },
   "outputs": [
    {
     "data": {
      "text/plain": [
       "array([[  2.71828183,   7.3890561 ],\n",
       "       [ 20.08553692,  54.59815003],\n",
       "       [148.4131591 , 403.42879349]])"
      ]
     },
     "execution_count": 31,
     "metadata": {},
     "output_type": "execute_result"
    }
   ],
   "source": [
    "np.exp(M)"
   ]
  },
  {
   "cell_type": "markdown",
   "metadata": {
    "id": "rADWzzZM02J-"
   },
   "source": [
    "Постоји и могућност да се функција изврши само дуж неке димензије вишедимензионог низа, на пример, само по колонама или само по врстама. Наравно, то има смисла само за неке функције као што су проналажење максимума, минимума, сабирање или упросечавање.\n",
    "\n",
    "Следећим кодом са прво врши сабирање елемената матрице `M` по врстама. За сабирање елемената матрице користи се функција `sum`."
   ]
  },
  {
   "cell_type": "code",
   "execution_count": null,
   "metadata": {
    "colab": {
     "base_uri": "https://localhost:8080/"
    },
    "id": "_YkYc0XxnAn3",
    "outputId": "fde97e9c-2b11-4f19-81a5-e94c797d7080"
   },
   "outputs": [
    {
     "data": {
      "text/plain": [
       "array([ 3,  7, 11])"
      ]
     },
     "execution_count": 32,
     "metadata": {},
     "output_type": "execute_result"
    }
   ],
   "source": [
    "np.sum(M, axis=1)"
   ]
  },
  {
   "cell_type": "markdown",
   "metadata": {
    "id": "tgF9Nsbf1FyC"
   },
   "source": [
    "Следећим кодом се врши сабирање елемената матрице `М` по колонама."
   ]
  },
  {
   "cell_type": "code",
   "execution_count": null,
   "metadata": {
    "colab": {
     "base_uri": "https://localhost:8080/"
    },
    "id": "v-JmAE8b1CnB",
    "outputId": "12c92348-6b3b-4015-b4ad-995cdad8f360"
   },
   "outputs": [
    {
     "data": {
      "text/plain": [
       "array([ 9, 12])"
      ]
     },
     "execution_count": 91,
     "metadata": {},
     "output_type": "execute_result"
    }
   ],
   "source": [
    "np.sum(M, axis=0)"
   ]
  },
  {
   "cell_type": "markdown",
   "metadata": {
    "id": "ATG42uCwwo_J"
   },
   "source": [
    "Избор одговарајуће димензије у оба случаја нагласили смо коришћењем аргумента `axis`."
   ]
  },
  {
   "cell_type": "markdown",
   "metadata": {
    "id": "LpgIBiDP6pHp"
   },
   "source": [
    "## Креирање неких специфичних вишедимензионих низова"
   ]
  },
  {
   "cell_type": "markdown",
   "metadata": {
    "id": "XbvRGVNOnAn3"
   },
   "source": [
    "Следећи блокови кода илуструју коршћење функција које нам омогућавају да брзо креирамо неке специфичне вишедимензионе низове:"
   ]
  },
  {
   "cell_type": "markdown",
   "metadata": {
    "id": "bVX67CDB27TN"
   },
   "source": [
    "- матрица са случајним бројевима димензије 2x3"
   ]
  },
  {
   "cell_type": "code",
   "execution_count": null,
   "metadata": {
    "colab": {
     "base_uri": "https://localhost:8080/"
    },
    "id": "3y0nom-U3CBv",
    "outputId": "7f02d5dd-1f90-41d0-fe1a-9b6e075951c7"
   },
   "outputs": [
    {
     "data": {
      "text/plain": [
       "array([[0.75367509, 0.28652712, 0.79622177],\n",
       "       [0.85791168, 0.82178545, 0.11129668]])"
      ]
     },
     "execution_count": 33,
     "metadata": {},
     "output_type": "execute_result"
    }
   ],
   "source": [
    "np.random.random((2, 3))"
   ]
  },
  {
   "cell_type": "markdown",
   "metadata": {
    "id": "eSrE5lvm3TjC"
   },
   "source": [
    "- матрица нула дизмензија 4x4"
   ]
  },
  {
   "cell_type": "code",
   "execution_count": null,
   "metadata": {
    "colab": {
     "base_uri": "https://localhost:8080/"
    },
    "id": "WaK6HnZH3XpL",
    "outputId": "bc58cbb8-e8f4-487f-8ac2-3efe918cc8a7"
   },
   "outputs": [
    {
     "data": {
      "text/plain": [
       "array([[0., 0., 0., 0.],\n",
       "       [0., 0., 0., 0.],\n",
       "       [0., 0., 0., 0.],\n",
       "       [0., 0., 0., 0.]])"
      ]
     },
     "execution_count": 34,
     "metadata": {},
     "output_type": "execute_result"
    }
   ],
   "source": [
    "np.zeros((4, 4))"
   ]
  },
  {
   "cell_type": "markdown",
   "metadata": {
    "id": "MJt-bkvx3hip"
   },
   "source": [
    "- матрица јединица димензија 4x2"
   ]
  },
  {
   "cell_type": "code",
   "execution_count": null,
   "metadata": {
    "colab": {
     "base_uri": "https://localhost:8080/"
    },
    "id": "L84toYJF3enZ",
    "outputId": "5f3928a6-2441-48b6-a76a-983fa0ed736b"
   },
   "outputs": [
    {
     "data": {
      "text/plain": [
       "array([[1., 1.],\n",
       "       [1., 1.],\n",
       "       [1., 1.],\n",
       "       [1., 1.]])"
      ]
     },
     "execution_count": 35,
     "metadata": {},
     "output_type": "execute_result"
    }
   ],
   "source": [
    "np.ones((4, 2))"
   ]
  },
  {
   "cell_type": "markdown",
   "metadata": {
    "id": "XEAOa30m3pIW"
   },
   "source": [
    "- један једнодимензиони низ са еквидистантним скупом 9 тачака из интервала од 0 до 2"
   ]
  },
  {
   "cell_type": "code",
   "execution_count": null,
   "metadata": {
    "colab": {
     "base_uri": "https://localhost:8080/"
    },
    "id": "x4WNzfLQ3oPJ",
    "outputId": "7b85fcb2-77c4-4d42-9285-fddd41288275"
   },
   "outputs": [
    {
     "data": {
      "text/plain": [
       "array([0.  , 0.25, 0.5 , 0.75, 1.  , 1.25, 1.5 , 1.75, 2.  ])"
      ]
     },
     "execution_count": 36,
     "metadata": {},
     "output_type": "execute_result"
    }
   ],
   "source": [
    "np.linspace(0, 2, 9)"
   ]
  },
  {
   "cell_type": "code",
   "execution_count": null,
   "metadata": {
    "id": "qCxH1uEynAn9"
   },
   "outputs": [],
   "source": []
  },
  {
   "cell_type": "markdown",
   "metadata": {
    "id": "Ir4w3xWr68zI"
   },
   "source": [
    "## Задаци за вежбу"
   ]
  },
  {
   "cell_type": "markdown",
   "metadata": {
    "id": "GMCu-vXp4cfk"
   },
   "source": [
    "Ево и неких задатака за вежбу."
   ]
  },
  {
   "cell_type": "markdown",
   "metadata": {
    "id": "DUB2Y-nD4sit"
   },
   "source": [
    "1. Конструиши матрицу која на главној дијагонали има редом бројеве 1, 2, 3 и 4 а на осталим позицијама нуле. Овакве матрице називамо дијагоналним матрицама."
   ]
  },
  {
   "cell_type": "markdown",
   "metadata": {
    "id": "Jnt81nwz46yS"
   },
   "source": [
    "2. Сада уради исти задатак али бројеве смести на споредну дијагоналу!"
   ]
  },
  {
   "cell_type": "markdown",
   "metadata": {
    "id": "yGXrpVrdnAoi"
   },
   "source": [
    "3. Одреди вредност просечног елемента матрице."
   ]
  },
  {
   "cell_type": "markdown",
   "metadata": {
    "id": "kYnj7NxG5IiN"
   },
   "source": [
    "4. Пронађи највећи елемент у свакој врсти."
   ]
  },
  {
   "cell_type": "markdown",
   "metadata": {
    "id": "Vsdy5VA75MXV"
   },
   "source": [
    "5. Пронађи највећи елемент у свакој колони."
   ]
  },
  {
   "cell_type": "markdown",
   "metadata": {
    "id": "9leC0OzfnAo8"
   },
   "source": [
    "Више о садржају и могућностима библиотеке NumPy можеш да пронађеш на званичном сајту http://www.numpy.org/.\n"
   ]
  }
 ],
 "metadata": {
  "colab": {
   "collapsed_sections": [
    "6SWwCYSI5jNl",
    "CTwWR81M51Qj",
    "HGMyu7cL6MWQ",
    "LpgIBiDP6pHp",
    "Ir4w3xWr68zI"
   ],
   "provenance": []
  },
  "kernelspec": {
   "display_name": "Python 3",
   "language": "python",
   "name": "python3"
  },
  "language_info": {
   "codemirror_mode": {
    "name": "ipython",
    "version": 3
   },
   "file_extension": ".py",
   "mimetype": "text/x-python",
   "name": "python",
   "nbconvert_exporter": "python",
   "pygments_lexer": "ipython3",
   "version": "3.9.13"
  }
 },
 "nbformat": 4,
 "nbformat_minor": 1
}
