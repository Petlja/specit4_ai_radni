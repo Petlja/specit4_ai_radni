{
  "nbformat": 4,
  "nbformat_minor": 0,
  "metadata": {
    "colab": {
      "provenance": [],
      "collapsed_sections": [
        "euHwUjUQ1hio"
      ]
    },
    "kernelspec": {
      "name": "python3",
      "display_name": "Python 3"
    },
    "language_info": {
      "name": "python"
    }
  },
  "cells": [
    {
      "cell_type": "markdown",
      "source": [
        "# Градијентни спуст"
      ],
      "metadata": {
        "id": "LxqF2RMxrw1U"
      }
    },
    {
      "cell_type": "markdown",
      "source": [
        "[![Open In Colab](https://colab.research.google.com/assets/colab-badge.svg)](https://colab.research.google.com/github.com/Petlja/specit4_ai_radni/blob/main/градијентни_спуст.ipynb)"
      ],
      "metadata": {
        "id": "HItLemWnJYCK"
      }
    },
    {
      "cell_type": "markdown",
      "source": [
        "Ова свеска прати садржај лекције о градијентном спусту. У њој можеш да покренеш симулацију градијентног спуста и опробаш шта се догађа за различита подешавања корака учења. Можеш да експериментишеш и са вредностима других подешавања и стекнеш бољу представу како овај алгоритам функционише."
      ],
      "metadata": {
        "id": "MvzaU-QooLRS"
      }
    },
    {
      "cell_type": "markdown",
      "source": [
        "Учитај прво библиотеке које ће бити потребне у даљем раду."
      ],
      "metadata": {
        "id": "r_6r4ghxobNT"
      }
    },
    {
      "cell_type": "code",
      "source": [
        "import numpy as np\n",
        "from matplotlib import pyplot as plt"
      ],
      "metadata": {
        "id": "p0rMvvqQX5CN"
      },
      "execution_count": 1,
      "outputs": []
    },
    {
      "cell_type": "markdown",
      "source": [
        "## Интуиција градијентног спуста"
      ],
      "metadata": {
        "id": "euHwUjUQ1hio"
      }
    },
    {
      "cell_type": "markdown",
      "source": [
        "У следећим двема ћелијама су дефинисане функција $f(x)=(x-1)^2$ и њен извод $f'(x)=2x-2$. Изврши их да би даље могао да користиш функције."
      ],
      "metadata": {
        "id": "OIVJK8u0offX"
      }
    },
    {
      "cell_type": "code",
      "source": [
        "def f(x):\n",
        "  return (x-1)**2"
      ],
      "metadata": {
        "id": "Hv7cAGSBX44G"
      },
      "execution_count": 2,
      "outputs": []
    },
    {
      "cell_type": "code",
      "source": [
        "f(3)"
      ],
      "metadata": {
        "colab": {
          "base_uri": "https://localhost:8080/"
        },
        "id": "JfiD3GxUX4XN",
        "outputId": "fac6fa37-f78e-4541-fb02-b94e22d56708"
      },
      "execution_count": 3,
      "outputs": [
        {
          "output_type": "execute_result",
          "data": {
            "text/plain": [
              "4"
            ]
          },
          "metadata": {},
          "execution_count": 3
        }
      ]
    },
    {
      "cell_type": "code",
      "source": [
        "def f_izvod(x):\n",
        "  return 2*x-2"
      ],
      "metadata": {
        "id": "PwKQholqX4k1"
      },
      "execution_count": 4,
      "outputs": []
    },
    {
      "cell_type": "code",
      "source": [
        "f(1)"
      ],
      "metadata": {
        "colab": {
          "base_uri": "https://localhost:8080/"
        },
        "id": "qs2E6MD6YI7y",
        "outputId": "630058ab-68bd-4410-9c09-aa78c97c25f1"
      },
      "execution_count": 5,
      "outputs": [
        {
          "output_type": "execute_result",
          "data": {
            "text/plain": [
              "0"
            ]
          },
          "metadata": {},
          "execution_count": 5
        }
      ]
    },
    {
      "cell_type": "markdown",
      "source": [
        "Део који следи омогућава да пратиш шта се догађа у појединачним корацима градијентног спуста."
      ],
      "metadata": {
        "id": "mgmBJ1rGsStc"
      }
    },
    {
      "cell_type": "markdown",
      "source": [
        "У овој ћелији можеш да поставиш почетну вредност тачке `x0` и вредност корака учења `alfa`. Сваки пут када нешто промениш изврши и доње ћелије."
      ],
      "metadata": {
        "id": "QhyjT5-UuOp6"
      }
    },
    {
      "cell_type": "code",
      "source": [
        "x0 = 3\n",
        "alfa = 0.25"
      ],
      "metadata": {
        "id": "w6_5BJE9Y-p3"
      },
      "execution_count": 6,
      "outputs": []
    },
    {
      "cell_type": "markdown",
      "source": [
        "Низ `tacke` ће садржати вредности које се добијају појединачним корацима спуста. Њих ћемо моћи да прикажемо користећи функцију `prikazi_grafik`."
      ],
      "metadata": {
        "id": "IhsALX53usj2"
      }
    },
    {
      "cell_type": "code",
      "source": [
        "tacke = [x0]"
      ],
      "metadata": {
        "id": "kBz3wxtWun-a"
      },
      "execution_count": 7,
      "outputs": []
    },
    {
      "cell_type": "code",
      "source": [
        "def prikazi_grafik(f, iteracija=0, prikazi_prelaz=False):\n",
        "  x = np.linspace(-4, 6, 100, endpoint=True)\n",
        "  y = f(x)\n",
        "\n",
        "  plt.xticks(np.arange(-4, 6), np.arange(-4, 6))\n",
        "  plt.plot(x, y)\n",
        "\n",
        "  for t in tacke:\n",
        "    plt.scatter(t, f(t), color='red')\n",
        "\n",
        "  if prikazi_prelaz == True:\n",
        "    broj_tacaka = len(tacke)\n",
        "    for i in range(0, broj_tacaka-1):\n",
        "      plt.plot([tacke[i], tacke[i+1]], [f(tacke[i]), f(tacke[i+1])], linestyle='--', color='gray')\n",
        "\n",
        "\n",
        "  plt.title('Iteracija broj: {iteracija}: '.format(iteracija=iteracija))\n",
        "  plt.show()"
      ],
      "metadata": {
        "id": "byvRXxgCpmfH"
      },
      "execution_count": 8,
      "outputs": []
    },
    {
      "cell_type": "markdown",
      "source": [
        "Функција `jedan_korak_spusta` израчунава вредност за `x` у које ћемо се померити једним кораком градијентног спуста. Изврши ћелију да би могао да је користиш."
      ],
      "metadata": {
        "id": "_GJGOCQAvrqw"
      }
    },
    {
      "cell_type": "code",
      "source": [
        "def jedan_korak_spusta(f, f_izvod, x, alfa):\n",
        "  x_novo = x - alfa * f_izvod(x)\n",
        "\n",
        "  return x_novo"
      ],
      "metadata": {
        "id": "9KCFw-ilr83V"
      },
      "execution_count": 9,
      "outputs": []
    },
    {
      "cell_type": "markdown",
      "source": [
        "Узастопним извршавањем доње ћелије можеш да пратиш како се врши спуст ка минимуму функције."
      ],
      "metadata": {
        "id": "rLS_hjQvv9Lh"
      }
    },
    {
      "cell_type": "code",
      "source": [
        "iteracija = 1"
      ],
      "metadata": {
        "id": "lVOhYGhVv8qI"
      },
      "execution_count": 10,
      "outputs": []
    },
    {
      "cell_type": "code",
      "source": [
        "# izracunava se nova tacka\n",
        "x = jedan_korak_spusta(f, f_izvod, x0, alfa)\n",
        "\n",
        "# tacka se dodaje u niz tacaka\n",
        "tacke.append(x)\n",
        "\n",
        "# prikazuje se grafik\n",
        "prikazi_grafik(f, iteracija, prikazi_prelaz=False)\n",
        "\n",
        "# uvecava se redni broj iteracije\n",
        "iteracija = iteracija + 1\n",
        "\n",
        "# postavlja se pozicija narednog spusta\n",
        "x0 = x\n"
      ],
      "metadata": {
        "colab": {
          "base_uri": "https://localhost:8080/",
          "height": 452
        },
        "id": "663o0Hxarfo6",
        "outputId": "27b38327-5462-4142-af3b-25148ccade3f"
      },
      "execution_count": 11,
      "outputs": [
        {
          "output_type": "display_data",
          "data": {
            "text/plain": [
              "<Figure size 640x480 with 1 Axes>"
            ],
            "image/png": "[encoded data removed]"
          },
          "metadata": {}
        }
      ]
    },
    {
      "cell_type": "code",
      "source": [
        "\n"
      ],
      "metadata": {
        "id": "zup4tJoQzOz3"
      },
      "execution_count": 11,
      "outputs": []
    },
    {
      "cell_type": "markdown",
      "source": [
        "Можеш сада да се вратиш на почетак и пробаш следеће вредности:\n",
        "*   `x0=3` и `alfa=0.05` - то ће бити тест стрпљења због спорог спуста!\n",
        "*   `x0=3` и `alfa=1.05` - то ће бити изненађење јер спуста заправо нема!\n",
        "*   `x0=5` и `alfa=0.9` - тако ћеш видети шта значи цик-цак замка!\n",
        "\n",
        "У овим експериментима обавезно у функцији `prikazi_grafik` постави аргумент `prikazi_prelaz` на вредност `True` како би могао да испратиш путању тачке."
      ],
      "metadata": {
        "id": "oQVK-M7c2Amp"
      }
    },
    {
      "cell_type": "code",
      "source": [],
      "metadata": {
        "id": "eYw5PMBUzONN"
      },
      "execution_count": 11,
      "outputs": []
    },
    {
      "cell_type": "markdown",
      "source": [
        "## Алгоритам градијентног спуста"
      ],
      "metadata": {
        "id": "KvG1rY63uFaD"
      }
    },
    {
      "cell_type": "markdown",
      "source": [
        "Ова ћелија садржи сва подешавања за функцију градијентног спуста."
      ],
      "metadata": {
        "id": "meiNIaIMxO6_"
      }
    },
    {
      "cell_type": "code",
      "source": [
        "x0 = 3\n",
        "alfa = 0.1\n",
        "epsilon = 0.001\n",
        "max_broj_iteracija = 100"
      ],
      "metadata": {
        "id": "3NZNhn9nuDpH"
      },
      "execution_count": 12,
      "outputs": []
    },
    {
      "cell_type": "markdown",
      "source": [
        "Ова ћелија садржи имплементацију функције градијентног спуста. Када је извршиш, моћи ћеш одмах да прочиташ за које је то x вредност функције најмања. Обавезно испитај како се мења резултат за различита подешавања овог алгоритма. Рецимо, за неке комбинације корака учења и стартне тачке спуст ће бити јако спор."
      ],
      "metadata": {
        "id": "fT8usxh4uEBz"
      }
    },
    {
      "cell_type": "code",
      "source": [
        "def gradijentni_spust(f, f_izvod, x, alfa, epsilon, max_broj_iteracija):\n",
        "\n",
        "    # postavljamo pocetnu vrednost za x\n",
        "    x_staro = x\n",
        "\n",
        "    # u svakoj iteraciji ...\n",
        "    for i in range(0, max_broj_iteracija):\n",
        "\n",
        "        # izracunavamo tekucu vrednost za x\n",
        "        x_novo = x_staro - alfa * f_izvod(x_staro)\n",
        "\n",
        "        # i potom proveravamo da li je ispunjen zaustavni kriterijum\n",
        "        if np.abs(f(x_novo) - f(x_staro)) < epsilon:\n",
        "            break\n",
        "\n",
        "        # ako kriterijum nije ispunjen, pripremamo x za narednu iteraciju\n",
        "        x_staro = x_novo\n",
        "\n",
        "    # na kraju celog postupka pripremamo izvestaj sa informacijama:\n",
        "    # da li se algoritam zaustavlja,\n",
        "    # koliko je iteracija trajao,\n",
        "    # i koja vrednost x je pronadjena\n",
        "    izvestaj = {}\n",
        "    izvestaj['zaustavlja_se'] = i != max_broj_iteracija\n",
        "    izvestaj['broj_iteracija'] = i\n",
        "    izvestaj['x_min'] = x_staro\n",
        "\n",
        "    return izvestaj\n"
      ],
      "metadata": {
        "id": "QawYBIwNtTjT"
      },
      "execution_count": 13,
      "outputs": []
    },
    {
      "cell_type": "markdown",
      "source": [
        "Извештај функције нам исписује да ли се алгоритам зауставио (тј. да ли је остварена жељена тачност израчунавања), колико му је итерација требало и која је то тачка у којој је вредност функције најмања. Изврши наредне ћелија да би генерисао извештај."
      ],
      "metadata": {
        "id": "_aaQm5LFyA8c"
      }
    },
    {
      "cell_type": "code",
      "source": [
        "izvestaj = gradijentni_spust(f, f_izvod, x0, alfa, epsilon, max_broj_iteracija)"
      ],
      "metadata": {
        "id": "3Xks6mJVt-X5"
      },
      "execution_count": 14,
      "outputs": []
    },
    {
      "cell_type": "code",
      "source": [
        "izvestaj"
      ],
      "metadata": {
        "colab": {
          "base_uri": "https://localhost:8080/"
        },
        "id": "KyD6K4TTuAft",
        "outputId": "6ff591ae-7c78-416f-fedd-135d931e8e1d"
      },
      "execution_count": 15,
      "outputs": [
        {
          "output_type": "execute_result",
          "data": {
            "text/plain": [
              "{'zaustavlja_se': True, 'broj_iteracija': 17, 'x_min': 1.045035996273705}"
            ]
          },
          "metadata": {},
          "execution_count": 15
        }
      ]
    },
    {
      "cell_type": "code",
      "source": [],
      "metadata": {
        "id": "kIaG57iZxD4-"
      },
      "execution_count": 15,
      "outputs": []
    },
    {
      "cell_type": "markdown",
      "source": [
        "## Потрага за параметрима $\\beta_0$ и $\\beta_1$"
      ],
      "metadata": {
        "id": "uBL5Hboo8iFH"
      }
    },
    {
      "cell_type": "markdown",
      "source": [
        "Као што смо научили, за задати скуп тачака $(x, y)$ средњеквадратна грешка се рачуна као сума квадрата разлика очекиваних вредности и предикција модела по формули $\\frac{1}{N}\\sum_{i=1}^N (y_i - (\\beta_0 + \\beta_1x_i))^2$ тј. $\\frac{1}{N} \\sum_{i=1}^N (y_i -\\beta_0 - \\beta_1x_i)^2$. Циљ нам је да одредимо вредности параметра $\\beta_0$ и $\\beta_1$ за које је вредност ове функције најмања. Јасно је да ће и функција $\\frac{1}{2N} \\sum_{i=1}^N (y_i -\\beta_0 - \\beta_1x_i)^2$ за те вредности имати најмању вредност па се њен облик много чешће користи због финијих облика градијента. Зато ћемо њу користити у наставку."
      ],
      "metadata": {
        "id": "TGFAsaFj-wX5"
      }
    },
    {
      "cell_type": "markdown",
      "source": [
        "Пратећи ову формулу, функција `srednjekvadratna_greska` за задате аргументе $\\beta_0$, $\\beta_1$, $x$ и $y$ израчунава вредност средњеквадратне грешке.  Ово је уједно и функција за коју желимо да пронађемо минимум техником градијентног спуста."
      ],
      "metadata": {
        "id": "VzYPDeIN5kY7"
      }
    },
    {
      "cell_type": "code",
      "source": [
        "def srednjekvadratna_greska(beta0, beta1, x, y):\n",
        "    return 0.5*np.average((y - beta0 - beta1*x)**2)"
      ],
      "metadata": {
        "id": "Qn7fps1n-BmM"
      },
      "execution_count": 16,
      "outputs": []
    },
    {
      "cell_type": "markdown",
      "source": [
        "Минимизацију грешке треба извршити по параметрима $\\beta_0$ i $\\beta_1$. Зато ће нам бити потребни и градијенти ове функције по $\\beta_0$ i $\\beta_1$. Може се проверити да је то вектор $[-\\frac{1}{N} \\sum_{i=1}^{N}(y_i - \\beta_0-\\beta_1x_i), -\\frac{1}{N} \\sum_{i=1}^{N}(y_i - \\beta_0 -\\beta_1x_i)\\cdot x_i]$. Уколико минусом прођемо кроз суму због једноставнијег рачунања добијамо вектор $[\\frac{1}{N} \\sum_{i=1}^{N}(\\beta_0 + \\beta_1x_i - y_i), \\frac{1}{N} \\sum_{i=1}^{N}(\\beta_0 + \\beta_1x_i - y_i)\\cdot x_i]$."
      ],
      "metadata": {
        "id": "BFqgLYw4-dNU"
      }
    },
    {
      "cell_type": "markdown",
      "source": [
        "Сада ћемо се бацити на посао прилагођавања функције градијентног спуста за задатак линеарне регресије. Треба да водимо рачуна да имамо две променљиве `beta0` и `beta1` и да је функција чији минимум тражимо баш средњеквадратна грешка."
      ],
      "metadata": {
        "id": "REFPWDteATVj"
      }
    },
    {
      "cell_type": "code",
      "source": [
        "def gradijentni_spust_linearne_regresije(x, y, srednjekvadratna_greska, beta0, beta1, alfa, epsilon, max_broj_iteracija, plot=False):\n",
        "\n",
        "    # postavljamo pocetnu vrednost za beta0 i beta1\n",
        "    beta0_staro = beta0\n",
        "    beta1_staro = beta1\n",
        "\n",
        "    # izracunavamo pocetnu vrednost funkcije greske\n",
        "    greska_staro = srednjekvadratna_greska(beta0_staro, beta1_staro, x, y)\n",
        "\n",
        "    # da bismo mogli da ispratimo kako se krece vrednost funkcije greske\n",
        "    # cuvacemo sve izracunate vrednosti u nizu greske\n",
        "    greske = [greska_staro]\n",
        "\n",
        "     # u svakoj iteraciji ...\n",
        "    for i in np.arange(0, max_broj_iteracija):\n",
        "\n",
        "        # izracunavamo tekucu vrednost za beta0 i beta1 tako sto:\n",
        "\n",
        "        # prvo izracunavamo vrednosti pravaca gradijenata\n",
        "        beta0_korekcija = np.average(beta0_staro + beta1_staro*x - y)\n",
        "        beta1_korekcija = np.average((beta0_staro + beta1_staro*x - y)*x)\n",
        "\n",
        "        # a potom i azuriramo vrednosti za beta0 i beta1\n",
        "        beta0_novo = beta0_staro - alfa*beta0_korekcija\n",
        "        beta1_novo = beta1_staro - alfa*beta1_korekcija\n",
        "\n",
        "        # za ovako izracunate vrednosti izracunavamo i vrednost\n",
        "        # srednjekvadratne greske\n",
        "        greska_novo = srednjekvadratna_greska(beta0_novo, beta1_novo, x, y)\n",
        "\n",
        "\n",
        "        # i potom proveravamo da li je ispunjen zaustavni kriterijum\n",
        "        if np.abs(greska_novo - greska_staro) < epsilon:\n",
        "            break\n",
        "\n",
        "        # alternativno se kao zaustavni kriterijum moze koristiti uslov da\n",
        "        # vrednost gradijenta bude manja od neke unapred zadate vrednosti\n",
        "        # if np.linalg.norm(np.array([beta0_korekcija, beta1_korekcija])) < epsilon:\n",
        "        #   break\n",
        "\n",
        "        # ako kriterijum nije ispunjen, pripremamo beta0 i beta1 za narednu iteraciju\n",
        "        beta0_staro = beta0_novo\n",
        "        beta1_staro = beta1_novo\n",
        "\n",
        "        # pripremamo i vrednost funkcije greske\n",
        "        greska_staro = greska_novo\n",
        "\n",
        "        # i dodajemo je u niz sa svim greskama\n",
        "        greske.append(greska_novo)\n",
        "\n",
        "\n",
        "    # na kraju celog postupka pripremamo izvestaj sa informacijama:\n",
        "    # da li se algoritam zaustavlja,\n",
        "    # koliko je iteracija trajao,\n",
        "    # i koja vrednost beta0 i beta1 je pronadjena\n",
        "\n",
        "    izvestaj = {}\n",
        "\n",
        "    izvestaj['zaustavlja_se'] = i != max_broj_iteracija - 1\n",
        "    izvestaj['broj_iteracija'] = i\n",
        "    izvestaj['b_min'] = (beta0_staro, beta1_staro)\n",
        "\n",
        "\n",
        "    # ukoliko je postavljena vrednost argumenta plot\n",
        "    # nacrtacemo i grafik funkcije greske u toku pretrage parametara\n",
        "    if plot == True:\n",
        "        plt.title('Funkcija greske')\n",
        "        plt.xlabel('Broj iteracija')\n",
        "        plt.ylabel('Srednjekvadratna greska')\n",
        "        plt.plot(np.arange(0, len(greske)), np.log(greske))\n",
        "\n",
        "    return izvestaj"
      ],
      "metadata": {
        "id": "86t5ngra9XRC"
      },
      "execution_count": 17,
      "outputs": []
    },
    {
      "cell_type": "markdown",
      "source": [
        "Поставићемо сада вредности за `x` и `y` тако да одговарају вредностима квадратура некретнина и њихових цена из претходног примера."
      ],
      "metadata": {
        "id": "Q7H1aD9dQ4Ot"
      }
    },
    {
      "cell_type": "code",
      "source": [
        "x = np.array([43, 25, 66, 80, 105, 70, 40, 85, 84, 102])\n",
        "y = np.array([60, 32.1, 88.4, 111.4, 120.32, 72.1, 46.3, 90.1, 99.6, 139.2])"
      ],
      "metadata": {
        "id": "MshTpzECDeaO"
      },
      "execution_count": 18,
      "outputs": []
    },
    {
      "cell_type": "markdown",
      "source": [
        "Одабраћемо и неке почетне вредности за параметре који фигуришу у алгоритму. Сада је овај задатак доста тежи јер немамо баш јасну представу где да се позиционирамо ни које вредности параметара да одаберемо."
      ],
      "metadata": {
        "id": "bZxyCGDsRGlj"
      }
    },
    {
      "cell_type": "code",
      "source": [
        "beta0 = 2.5\n",
        "beta1 = 1.5\n",
        "alfa = 0.00001\n",
        "epsilon = 0.000001\n",
        "max_broj_iteracija = 200"
      ],
      "metadata": {
        "id": "V-SGnbeO9oua"
      },
      "execution_count": 67,
      "outputs": []
    },
    {
      "cell_type": "markdown",
      "source": [
        "Затим ћемо покренути претрагу позивом функције коју смо припремили."
      ],
      "metadata": {
        "id": "O6GPT8oORilO"
      }
    },
    {
      "cell_type": "code",
      "source": [
        "gradijentni_spust_linearne_regresije(x, y, srednjekvadratna_greska, beta0, beta1, alfa, epsilon, max_broj_iteracija, plot=False)"
      ],
      "metadata": {
        "colab": {
          "base_uri": "https://localhost:8080/"
        },
        "id": "QjebyTZqDuVo",
        "outputId": "7332a729-4f55-471e-94b0-b036a7e9b1b5"
      },
      "execution_count": 68,
      "outputs": [
        {
          "output_type": "execute_result",
          "data": {
            "text/plain": [
              "{'zaustavlja_se': True,\n",
              " 'broj_iteracija': 151,\n",
              " 'b_min': (2.4960466912761294, 1.1930132064518595)}"
            ]
          },
          "metadata": {},
          "execution_count": 68
        }
      ]
    },
    {
      "cell_type": "markdown",
      "source": [
        "Обавезно испробај шта ће се десити када промениш неке вредности. Опет можеш да очекујеш спор спуст, цик-цак замку или поступак који те не доводи до решења."
      ],
      "metadata": {
        "id": "e4d3e4_I5SLa"
      }
    },
    {
      "cell_type": "markdown",
      "source": [
        "У пракси се чешће користе варијанте градијентног спуста са променљивим кораком учења које се воде логиком да када смо сигурни да идемо дуж доброг правца можемо да правимо веће кораке док када смо мање сигурни можемо правити и мање кораке и будемо обазривији. Пракса је и да се у овим алгоритмима користе и технике стандардизације података које би цео процес учиниле нумерички стабилнијим."
      ],
      "metadata": {
        "id": "0Sjrws9F5pSz"
      }
    },
    {
      "cell_type": "markdown",
      "source": [
        "Једно такво боље решење који би ови алгоритми пронашли за нас је $\\beta_0$=2.056 и $\\beta_1$=1.198."
      ],
      "metadata": {
        "id": "s8W2kk7ZPUNZ"
      }
    },
    {
      "cell_type": "code",
      "source": [],
      "metadata": {
        "id": "F1jGn2BPI9Aq"
      },
      "execution_count": null,
      "outputs": []
    }
  ]
}